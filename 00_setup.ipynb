{
  "cells": [
    {
      "cell_type": "markdown",
      "metadata": {
        "id": "view-in-github"
      },
      "source": [
        "<a href=\"https://colab.research.google.com/github/baicheto/AML_Bitcoin/blob/Kri/AML_2.ipynb\" target=\"_parent\"><img src=\"https://colab.research.google.com/assets/colab-badge.svg\" alt=\"Open In Colab\"/></a>"
      ]
    },
    {
      "cell_type": "markdown",
      "metadata": {
        "id": "0uZ0CGl4xrWp"
      },
      "source": [
        "**After running the section `Installations`, manually restart the session.**"
      ]
    },
    {
      "cell_type": "markdown",
      "source": [
        "# Installations"
      ],
      "metadata": {
        "id": "wT_Hq7pQVWh5"
      }
    },
    {
      "cell_type": "code",
      "execution_count": null,
      "metadata": {
        "id": "LMEfgF8zlShr"
      },
      "outputs": [],
      "source": [
        "!pip install --quiet --upgrade pip setuptools\n",
        "!pip install --quiet torch_geometric gensim matplotlib seaborn networkx python-louvain scikit-learn scipy"
      ]
    },
    {
      "cell_type": "code",
      "execution_count": null,
      "metadata": {
        "id": "w2CPOCQFfBm1"
      },
      "outputs": [],
      "source": [
        "# First, uninstall existing versions to avoid conflicts\n",
        "!pip uninstall -y torch torch-scatter torch-sparse torch-cluster torch-spline-conv pyg-lib torch-geometric\n",
        "\n",
        "# Install PyTorch 2.0.0 with CUDA 11.7\n",
        "!pip install --quiet torch==2.0.0+cu117 torchvision==0.15.1+cu117 torchaudio==2.0.1 --index-url https://download.pytorch.org/whl/cu117\n",
        "\n",
        "# Install PyTorch Geometric dependencies with prebuilt wheels\n",
        "!pip install --quiet torch-scatter torch-sparse torch-cluster torch-spline-conv pyg-lib torch-geometric -f https://data.pyg.org/whl/torch-2.0.0+cu117.html\n"
      ]
    },
    {
      "cell_type": "markdown",
      "metadata": {
        "id": "nVccEhwt8dqJ"
      },
      "source": [
        "# Imports"
      ]
    },
    {
      "cell_type": "code",
      "execution_count": null,
      "metadata": {
        "id": "-nOntRwIZo-0"
      },
      "outputs": [],
      "source": [
        "from google.colab import drive, files"
      ]
    },
    {
      "cell_type": "code",
      "execution_count": null,
      "metadata": {
        "id": "WhvvBlCOZ5tJ"
      },
      "outputs": [],
      "source": [
        "import numpy as np\n",
        "import pandas as pd\n",
        "import matplotlib as mpl\n",
        "import matplotlib.pyplot as plt\n",
        "import seaborn as sns\n",
        "import networkx as nx\n",
        "import community as community_louvain\n",
        "import random, multiprocessing as mp, json, os\n",
        "import gensim\n",
        "from gensim.models import Word2Vec\n",
        "from itertools import product\n",
        "import pickle\n",
        "from scipy.stats import ttest_ind\n",
        "\n",
        "import warnings\n",
        "warnings.filterwarnings(\"ignore\", category=FutureWarning)\n",
        "warnings.filterwarnings(\"ignore\", category=mpl.MatplotlibDeprecationWarning)"
      ]
    },
    {
      "cell_type": "code",
      "execution_count": null,
      "metadata": {
        "id": "EWZ9zPm6VB7N"
      },
      "outputs": [],
      "source": [
        "from sklearn.metrics import (\n",
        "    roc_auc_score,\n",
        "    average_precision_score,\n",
        "    precision_score,\n",
        "    recall_score,\n",
        "    f1_score,\n",
        "    precision_recall_fscore_support,\n",
        "    confusion_matrix,\n",
        "    classification_report,\n",
        "    ConfusionMatrixDisplay\n",
        "    )\n",
        "\n",
        "from sklearn.decomposition import PCA\n",
        "from sklearn.preprocessing import LabelEncoder\n",
        "from sklearn.preprocessing import StandardScaler\n",
        "from sklearn.manifold import TSNE\n",
        "from sklearn.linear_model import LogisticRegression\n",
        "from sklearn.model_selection import train_test_split"
      ]
    },
    {
      "cell_type": "code",
      "source": [
        "import torch\n",
        "import torch.nn as nn\n",
        "import torch.nn.functional as F\n",
        "from torch import Tensor\n",
        "import torch.optim as optim\n",
        "import torch_geometric\n",
        "import torch_geometric as tg\n",
        "from torch_geometric.data import Data\n",
        "from torch_geometric.utils import from_networkx\n",
        "from torch_geometric.loader import NeighborLoader\n",
        "from torch_geometric.nn import GCNConv, GATConv, SAGEConv\n",
        "\n",
        "print(\"Torch version:\", torch.__version__)\n",
        "print(\"Torch Geometric version:\", torch_geometric.__version__)"
      ],
      "metadata": {
        "colab": {
          "base_uri": "https://localhost:8080/"
        },
        "id": "NFZ2V9cHeKTG",
        "outputId": "3b2aa779-ccef-43c7-bb31-77a8b3b00e1a"
      },
      "execution_count": null,
      "outputs": [
        {
          "output_type": "stream",
          "name": "stderr",
          "text": [
            "Disabling PyTorch because PyTorch >= 2.1 is required but found 2.0.0+cu117\n"
          ]
        },
        {
          "output_type": "stream",
          "name": "stdout",
          "text": [
            "Torch version: 2.0.0+cu117\n",
            "Torch Geometric version: 2.6.1\n"
          ]
        }
      ]
    },
    {
      "cell_type": "code",
      "source": [
        "os.environ['PYTHONHASHSEED'] = str(42)\n",
        "random.seed(42)\n",
        "np.random.seed(42)\n",
        "torch.manual_seed(42)\n",
        "torch.cuda.manual_seed_all(42)\n",
        "torch.use_deterministic_algorithms(True)\n",
        "torch.backends.cudnn.benchmark = False"
      ],
      "metadata": {
        "id": "t6HkUoTWAGoR"
      },
      "execution_count": null,
      "outputs": []
    }
  ],
  "metadata": {
    "colab": {
      "provenance": []
    },
    "kernelspec": {
      "display_name": "Python 3",
      "name": "python3"
    },
    "language_info": {
      "name": "python"
    }
  },
  "nbformat": 4,
  "nbformat_minor": 0
}