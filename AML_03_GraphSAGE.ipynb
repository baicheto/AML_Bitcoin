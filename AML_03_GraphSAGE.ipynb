{
  "cells": [
    {
      "cell_type": "markdown",
      "metadata": {
        "id": "view-in-github"
      },
      "source": [
        "<a href=\"https://colab.research.google.com/github/baicheto/AML_Bitcoin/blob/Kri/AML_2.ipynb\" target=\"_parent\"><img src=\"https://colab.research.google.com/assets/colab-badge.svg\" alt=\"Open In Colab\"/></a>"
      ]
    },
    {
      "cell_type": "markdown",
      "source": [
        "# GraphSAGE"
      ],
      "metadata": {
        "id": "gpEE5Q6HwRH6"
      }
    },
    {
      "cell_type": "markdown",
      "source": [
        "## Build the PyG Data object on G_int_full"
      ],
      "metadata": {
        "id": "JJ7oxRHvxkkb"
      }
    },
    {
      "cell_type": "code",
      "source": [
        "pyg_data = from_networkx(G_int_sub)\n",
        "pyg_data.x = feat_intr.clone()\n",
        "\n",
        "X_sub_gs = pyg_data.x.cpu().numpy()"
      ],
      "metadata": {
        "id": "ZLzxuXnTQtLh"
      },
      "execution_count": null,
      "outputs": []
    },
    {
      "cell_type": "code",
      "source": [
        "num_nodes_gs = y.size(0)\n",
        "train_mask_gs = torch.zeros(num_nodes_gs, dtype=torch.bool)\n",
        "val_mask_gs   = torch.zeros(num_nodes_gs, dtype=torch.bool)\n",
        "test_mask_gs  = torch.zeros(num_nodes_gs, dtype=torch.bool)\n",
        "\n",
        "mask_known_gs = (y >= 0)\n",
        "\n",
        "ts_gs = ts_tensor.clone()\n",
        "\n",
        "train_mask_gs[mask_known_gs & (ts_gs <= 30)]                 = True\n",
        "val_mask_gs[  mask_known_gs & ((ts_gs >= 31) & (ts_gs <= 40)) ] = True\n",
        "test_mask_gs[ mask_known_gs & (ts_gs >= 41) ]                 = True"
      ],
      "metadata": {
        "id": "Z94Wmb4_QtLh"
      },
      "execution_count": null,
      "outputs": []
    },
    {
      "cell_type": "code",
      "source": [
        "pyg_data.train_mask = train_mask_gs\n",
        "pyg_data.val_mask   = val_mask_gs\n",
        "pyg_data.test_mask  = test_mask_gs"
      ],
      "metadata": {
        "id": "vVxD2WMZQtLi"
      },
      "execution_count": null,
      "outputs": []
    },
    {
      "cell_type": "code",
      "source": [
        "X_sub_gs = pyg_data.x.cpu().numpy()\n",
        "train_mask_np = pyg_data.train_mask.cpu().numpy()\n",
        "\n",
        "scaler = StandardScaler()\n",
        "scaler.fit(X_sub_gs[train_mask_np])\n",
        "X_scaled = scaler.transform(X_sub_gs)"
      ],
      "metadata": {
        "id": "aZbycNCwQtLi"
      },
      "execution_count": null,
      "outputs": []
    },
    {
      "cell_type": "code",
      "source": [
        "pyg_data.x = torch.tensor(X_scaled, dtype=torch.float, device=device)\n",
        "pyg_data.y = y.clone().to(device)\n",
        "\n",
        "pyg_data.train_mask = pyg_data.train_mask.to(device)\n",
        "pyg_data.val_mask   = pyg_data.val_mask.to(device)\n",
        "pyg_data.test_mask  = pyg_data.test_mask.to(device)\n",
        "\n",
        "pyg_data = pyg_data.to(device)"
      ],
      "metadata": {
        "id": "48xwLbsxQtLi"
      },
      "execution_count": null,
      "outputs": []
    },
    {
      "cell_type": "markdown",
      "source": [
        "## GraphSAGE Model"
      ],
      "metadata": {
        "id": "jSyfh52HwRH-"
      }
    },
    {
      "cell_type": "code",
      "source": [
        "class TwoLayerSAGE(nn.Module):\n",
        "    def __init__(self, in_ch, hid_ch, out_ch, dropout=0.35):\n",
        "        super().__init__()\n",
        "        self.conv1 = SAGEConv(in_ch, hid_ch, aggr='mean')\n",
        "        self.conv2 = SAGEConv(hid_ch, hid_ch, aggr='mean')\n",
        "        self.lin   = nn.Linear(hid_ch, out_ch)\n",
        "        self.dropout = dropout\n",
        "\n",
        "    def forward(self, x, edge_index):\n",
        "        x = F.relu( self.conv1(x, edge_index) )\n",
        "        x = F.dropout(x, p=self.dropout, training=self.training)\n",
        "        x = F.relu( self.conv2(x, edge_index) )\n",
        "        x = F.dropout(x, p=self.dropout, training=self.training)\n",
        "        return self.lin(x)"
      ],
      "metadata": {
        "id": "cidxtIRywCy-"
      },
      "execution_count": null,
      "outputs": []
    },
    {
      "cell_type": "code",
      "source": [
        "model = TwoLayerSAGE(\n",
        "    in_ch    = pyg_data.x.size(1),\n",
        "    hid_ch  = 48,\n",
        "    out_ch    = 2,\n",
        "    dropout        = 0.35\n",
        ").to(device)"
      ],
      "metadata": {
        "id": "oibQmfiGwc41"
      },
      "execution_count": null,
      "outputs": []
    },
    {
      "cell_type": "markdown",
      "source": [
        "## Data Loaders"
      ],
      "metadata": {
        "id": "vLcVo4dcwRH-"
      }
    },
    {
      "cell_type": "code",
      "source": [
        "train_loader = NeighborLoader(\n",
        "    pyg_data,\n",
        "    input_nodes   = pyg_data.train_mask,\n",
        "    num_neighbors = [2],\n",
        "    batch_size    = 512,\n",
        "    shuffle       = True\n",
        ")\n",
        "val_loader = NeighborLoader(\n",
        "    pyg_data,\n",
        "    input_nodes   = pyg_data.val_mask,\n",
        "    num_neighbors = [2],\n",
        "    batch_size    = 512,\n",
        "    shuffle       = False\n",
        ")\n",
        "test_loader = NeighborLoader(\n",
        "    pyg_data,\n",
        "    input_nodes   = pyg_data.test_mask,\n",
        "    num_neighbors = [2],\n",
        "    batch_size    = 512,\n",
        "    shuffle       = False\n",
        ")"
      ],
      "metadata": {
        "id": "Pq4gV1b-wRH_"
      },
      "execution_count": null,
      "outputs": []
    },
    {
      "cell_type": "markdown",
      "source": [
        "## Training Setup"
      ],
      "metadata": {
        "id": "0yKbREKzwRH_"
      }
    },
    {
      "cell_type": "code",
      "source": [
        "optimizer = optim.Adam(\n",
        "    model.parameters(),\n",
        "    lr          = 0.0248,\n",
        "    weight_decay= 1e-4\n",
        ")\n",
        "criterion = nn.CrossEntropyLoss()"
      ],
      "metadata": {
        "id": "kJMcV6FEwRH_"
      },
      "execution_count": null,
      "outputs": []
    },
    {
      "cell_type": "code",
      "source": [
        "def train_one_epoch():\n",
        "    model.train()\n",
        "    total_loss = 0.0\n",
        "    total_samples = 0\n",
        "    for batch in train_loader:\n",
        "        batch = batch.to(device)\n",
        "        optimizer.zero_grad()\n",
        "        out = model(batch.x, batch.edge_index)\n",
        "        logits = out[:batch.batch_size]\n",
        "        labels_batch = batch.y[:batch.batch_size]\n",
        "        loss = criterion(logits, labels_batch)\n",
        "        loss.backward()\n",
        "        optimizer.step()\n",
        "        total_loss += loss.item() * batch.batch_size\n",
        "        total_samples += batch.batch_size\n",
        "    return total_loss / total_samples"
      ],
      "metadata": {
        "id": "mqBCgJrkwRH_"
      },
      "execution_count": null,
      "outputs": []
    },
    {
      "cell_type": "code",
      "source": [
        "@torch.no_grad()\n",
        "def evaluate_split(loader):\n",
        "    model.eval()\n",
        "    all_true = []\n",
        "    all_probs = []\n",
        "    for batch in loader:\n",
        "        batch = batch.to(device)\n",
        "        out = model(batch.x, batch.edge_index)\n",
        "        logits = out[:batch.batch_size]\n",
        "        probs = torch.softmax(logits, dim=1)[:,1].cpu().numpy()\n",
        "        y_true = batch.y[:batch.batch_size].cpu().numpy()\n",
        "        all_true.append(y_true)\n",
        "        all_probs.append(probs)\n",
        "    y_true = np.concatenate(all_true, axis=0)\n",
        "    y_prob = np.concatenate(all_probs, axis=0)\n",
        "    return y_true, y_prob"
      ],
      "metadata": {
        "id": "XUF_CTLMwRH_"
      },
      "execution_count": null,
      "outputs": []
    },
    {
      "cell_type": "code",
      "source": [
        "max_epochs    = 498\n",
        "patience      = 80\n",
        "best_val_pr   = -1.0\n",
        "best_state    = None\n",
        "patience_ctr  = 0\n",
        "\n",
        "val_pr_history = []\n",
        "\n",
        "for epoch in range(1, max_epochs + 1):\n",
        "    loss = train_one_epoch()\n",
        "\n",
        "    y_val_true, y_val_prob = evaluate_split(val_loader)\n",
        "    val_pr = average_precision_score(y_val_true, y_val_prob)\n",
        "    val_roc = roc_auc_score(y_val_true, y_val_prob)\n",
        "\n",
        "    val_pr_history.append(val_pr)\n",
        "    print(f\"Epoch {epoch:03d}  Loss: {loss:.4f}  Val PR: {val_pr:.4f}  Val ROC: {val_roc:.4f}\")\n",
        "\n",
        "    if val_pr > best_val_pr:\n",
        "        best_val_pr = val_pr\n",
        "        patience_ctr = 0\n",
        "        torch.save(model.state_dict(), \"sage_best.pt\")\n",
        "    else:\n",
        "        patience_ctr += 1\n",
        "        if patience_ctr >= patience:\n",
        "            print(f\"\\nEarly stopping triggered at epoch {epoch} \"\n",
        "                  f\"(no val PR improvement for {patience} epochs).\")\n",
        "            print(f\"Best Val PR was {best_val_pr:.4f}. Restoring those weights.\\n\")\n",
        "            break\n",
        "\n",
        "model.load_state_dict(torch.load(\"sage_best.pt\"))"
      ],
      "metadata": {
        "colab": {
          "base_uri": "https://localhost:8080/"
        },
        "id": "Gjl-D4U55Fdj",
        "outputId": "8fb397b6-e1a1-4213-9416-4032f6916422"
      },
      "execution_count": null,
      "outputs": [
        {
          "output_type": "stream",
          "name": "stdout",
          "text": [
            "Epoch 001  Loss: 0.1767  Val PR: 0.8092  Val ROC: 0.9375\n",
            "Epoch 002  Loss: 0.1673  Val PR: 0.8015  Val ROC: 0.9429\n",
            "Epoch 003  Loss: 0.2219  Val PR: 0.7626  Val ROC: 0.9385\n",
            "Epoch 004  Loss: 0.2074  Val PR: 0.8159  Val ROC: 0.9481\n",
            "Epoch 005  Loss: 0.1506  Val PR: 0.7943  Val ROC: 0.9474\n",
            "Epoch 006  Loss: 0.1593  Val PR: 0.8099  Val ROC: 0.9437\n",
            "Epoch 007  Loss: 0.1817  Val PR: 0.8019  Val ROC: 0.9456\n",
            "Epoch 008  Loss: 0.1587  Val PR: 0.7931  Val ROC: 0.9447\n",
            "Epoch 009  Loss: 0.1521  Val PR: 0.7774  Val ROC: 0.9424\n",
            "Epoch 010  Loss: 0.2448  Val PR: 0.6678  Val ROC: 0.9174\n",
            "Epoch 011  Loss: 0.2026  Val PR: 0.7803  Val ROC: 0.9461\n",
            "Epoch 012  Loss: 0.1764  Val PR: 0.7871  Val ROC: 0.9382\n",
            "Epoch 013  Loss: 0.1864  Val PR: 0.7846  Val ROC: 0.9388\n",
            "Epoch 014  Loss: 0.1771  Val PR: 0.7753  Val ROC: 0.9410\n",
            "Epoch 015  Loss: 0.1682  Val PR: 0.7990  Val ROC: 0.9491\n",
            "Epoch 016  Loss: 0.1610  Val PR: 0.8287  Val ROC: 0.9504\n",
            "Epoch 017  Loss: 0.1653  Val PR: 0.8213  Val ROC: 0.9489\n",
            "Epoch 018  Loss: 0.1601  Val PR: 0.8244  Val ROC: 0.9474\n",
            "Epoch 019  Loss: 0.1566  Val PR: 0.7875  Val ROC: 0.9396\n",
            "Epoch 020  Loss: 0.1603  Val PR: 0.7936  Val ROC: 0.9431\n",
            "Epoch 021  Loss: 0.1531  Val PR: 0.7557  Val ROC: 0.9350\n",
            "Epoch 022  Loss: 0.1608  Val PR: 0.7962  Val ROC: 0.9390\n",
            "Epoch 023  Loss: 0.1536  Val PR: 0.7956  Val ROC: 0.9427\n",
            "Epoch 024  Loss: 0.1624  Val PR: 0.6763  Val ROC: 0.9319\n",
            "Epoch 025  Loss: 0.1589  Val PR: 0.7631  Val ROC: 0.9389\n",
            "Epoch 026  Loss: 0.1582  Val PR: 0.8009  Val ROC: 0.9410\n",
            "Epoch 027  Loss: 0.1574  Val PR: 0.7629  Val ROC: 0.9304\n",
            "Epoch 028  Loss: 0.1551  Val PR: 0.7901  Val ROC: 0.9417\n",
            "Epoch 029  Loss: 0.1877  Val PR: 0.7862  Val ROC: 0.9425\n",
            "Epoch 030  Loss: 0.2231  Val PR: 0.7998  Val ROC: 0.9462\n",
            "Epoch 031  Loss: 0.1619  Val PR: 0.7894  Val ROC: 0.9445\n",
            "Epoch 032  Loss: 0.1513  Val PR: 0.7400  Val ROC: 0.9425\n",
            "Epoch 033  Loss: 0.1515  Val PR: 0.6962  Val ROC: 0.9355\n",
            "Epoch 034  Loss: 0.1511  Val PR: 0.8128  Val ROC: 0.9534\n",
            "Epoch 035  Loss: 0.1445  Val PR: 0.7964  Val ROC: 0.9460\n",
            "Epoch 036  Loss: 0.1580  Val PR: 0.8014  Val ROC: 0.9425\n",
            "Epoch 037  Loss: 0.1599  Val PR: 0.7874  Val ROC: 0.9337\n",
            "Epoch 038  Loss: 0.1542  Val PR: 0.7594  Val ROC: 0.9379\n",
            "Epoch 039  Loss: 0.1611  Val PR: 0.8193  Val ROC: 0.9474\n",
            "Epoch 040  Loss: 0.1574  Val PR: 0.8114  Val ROC: 0.9482\n",
            "Epoch 041  Loss: 0.1571  Val PR: 0.8144  Val ROC: 0.9522\n",
            "Epoch 042  Loss: 0.1511  Val PR: 0.8115  Val ROC: 0.9482\n",
            "Epoch 043  Loss: 0.1827  Val PR: 0.7707  Val ROC: 0.9485\n",
            "Epoch 044  Loss: 0.1552  Val PR: 0.7236  Val ROC: 0.9265\n",
            "Epoch 045  Loss: 0.1679  Val PR: 0.7442  Val ROC: 0.9349\n",
            "Epoch 046  Loss: 0.1560  Val PR: 0.7567  Val ROC: 0.9434\n",
            "Epoch 047  Loss: 0.1734  Val PR: 0.7827  Val ROC: 0.9463\n",
            "Epoch 048  Loss: 0.1619  Val PR: 0.8111  Val ROC: 0.9450\n",
            "Epoch 049  Loss: 0.1520  Val PR: 0.7624  Val ROC: 0.9373\n",
            "Epoch 050  Loss: 0.1624  Val PR: 0.8233  Val ROC: 0.9484\n",
            "Epoch 051  Loss: 0.1736  Val PR: 0.7340  Val ROC: 0.9366\n",
            "Epoch 052  Loss: 0.1637  Val PR: 0.8027  Val ROC: 0.9429\n",
            "Epoch 053  Loss: 0.1511  Val PR: 0.7747  Val ROC: 0.9394\n",
            "Epoch 054  Loss: 0.1621  Val PR: 0.7823  Val ROC: 0.9395\n",
            "Epoch 055  Loss: 0.1686  Val PR: 0.7754  Val ROC: 0.9353\n",
            "Epoch 056  Loss: 0.1547  Val PR: 0.8269  Val ROC: 0.9512\n",
            "Epoch 057  Loss: 0.1521  Val PR: 0.7779  Val ROC: 0.9453\n",
            "Epoch 058  Loss: 0.1571  Val PR: 0.7966  Val ROC: 0.9446\n",
            "Epoch 059  Loss: 0.1500  Val PR: 0.7977  Val ROC: 0.9443\n",
            "Epoch 060  Loss: 0.1427  Val PR: 0.7938  Val ROC: 0.9482\n",
            "Epoch 061  Loss: 0.1554  Val PR: 0.7591  Val ROC: 0.9356\n",
            "Epoch 062  Loss: 0.1510  Val PR: 0.7968  Val ROC: 0.9485\n",
            "Epoch 063  Loss: 0.1536  Val PR: 0.7868  Val ROC: 0.9407\n",
            "Epoch 064  Loss: 0.1494  Val PR: 0.7934  Val ROC: 0.9472\n",
            "Epoch 065  Loss: 0.1785  Val PR: 0.7417  Val ROC: 0.9316\n",
            "Epoch 066  Loss: 0.1628  Val PR: 0.7708  Val ROC: 0.9350\n",
            "Epoch 067  Loss: 0.1615  Val PR: 0.7657  Val ROC: 0.9381\n",
            "Epoch 068  Loss: 0.1619  Val PR: 0.7656  Val ROC: 0.9340\n",
            "Epoch 069  Loss: 0.1591  Val PR: 0.7139  Val ROC: 0.9287\n",
            "Epoch 070  Loss: 0.1600  Val PR: 0.7393  Val ROC: 0.9385\n",
            "Epoch 071  Loss: 0.1505  Val PR: 0.6469  Val ROC: 0.9289\n",
            "Epoch 072  Loss: 0.1505  Val PR: 0.8011  Val ROC: 0.9465\n",
            "Epoch 073  Loss: 0.1501  Val PR: 0.6586  Val ROC: 0.9315\n",
            "Epoch 074  Loss: 0.1530  Val PR: 0.7636  Val ROC: 0.9396\n",
            "Epoch 075  Loss: 0.1517  Val PR: 0.7267  Val ROC: 0.9312\n",
            "Epoch 076  Loss: 0.1762  Val PR: 0.7042  Val ROC: 0.9379\n",
            "Epoch 077  Loss: 0.1716  Val PR: 0.7847  Val ROC: 0.9392\n",
            "Epoch 078  Loss: 0.1540  Val PR: 0.8010  Val ROC: 0.9416\n",
            "Epoch 079  Loss: 0.1577  Val PR: 0.7428  Val ROC: 0.9321\n",
            "Epoch 080  Loss: 0.1523  Val PR: 0.7872  Val ROC: 0.9437\n",
            "Epoch 081  Loss: 0.1710  Val PR: 0.7971  Val ROC: 0.9417\n",
            "Epoch 082  Loss: 0.1641  Val PR: 0.7733  Val ROC: 0.9367\n",
            "Epoch 083  Loss: 0.1600  Val PR: 0.7601  Val ROC: 0.9383\n",
            "Epoch 084  Loss: 0.1522  Val PR: 0.8024  Val ROC: 0.9464\n",
            "Epoch 085  Loss: 0.1574  Val PR: 0.7808  Val ROC: 0.9456\n",
            "Epoch 086  Loss: 0.1532  Val PR: 0.7810  Val ROC: 0.9431\n",
            "Epoch 087  Loss: 0.1562  Val PR: 0.8197  Val ROC: 0.9523\n",
            "Epoch 088  Loss: 0.1553  Val PR: 0.7819  Val ROC: 0.9461\n",
            "Epoch 089  Loss: 0.1560  Val PR: 0.7687  Val ROC: 0.9373\n",
            "Epoch 090  Loss: 0.1600  Val PR: 0.7529  Val ROC: 0.9366\n",
            "Epoch 091  Loss: 0.1576  Val PR: 0.6725  Val ROC: 0.9269\n",
            "Epoch 092  Loss: 0.1547  Val PR: 0.7547  Val ROC: 0.9404\n",
            "Epoch 093  Loss: 0.1566  Val PR: 0.7416  Val ROC: 0.9366\n",
            "Epoch 094  Loss: 0.1652  Val PR: 0.7712  Val ROC: 0.9405\n",
            "Epoch 095  Loss: 0.1580  Val PR: 0.7410  Val ROC: 0.9382\n",
            "Epoch 096  Loss: 0.1531  Val PR: 0.7887  Val ROC: 0.9466\n",
            "\n",
            "Early stopping triggered at epoch 96 (no val PR improvement for 80 epochs).\n",
            "Best Val PR was 0.8287. Restoring those weights.\n",
            "\n"
          ]
        },
        {
          "output_type": "execute_result",
          "data": {
            "text/plain": [
              "<All keys matched successfully>"
            ]
          },
          "metadata": {},
          "execution_count": 48
        }
      ]
    },
    {
      "cell_type": "code",
      "source": [
        "plt.figure(figsize=(8,4))\n",
        "plt.plot(val_pr_history, marker='o', markersize=3)\n",
        "plt.xlabel('Epoch')\n",
        "plt.ylabel('Validation AUC-PR')\n",
        "plt.title('Val AUC-PR by Epoch')\n",
        "plt.grid(True)\n",
        "plt.show()"
      ],
      "metadata": {
        "colab": {
          "base_uri": "https://localhost:8080/",
          "height": 410
        },
        "id": "bryGdyy6wjz7",
        "outputId": "48e8b2a3-8097-4aee-979f-07fe573fe551"
      },
      "execution_count": null,
      "outputs": [
        {
          "output_type": "display_data",
          "data": {
            "text/plain": [
              "<Figure size 800x400 with 1 Axes>"
            ],
            "image/png": "[encoded data removed]"
          },
          "metadata": {}
        }
      ]
    },
    {
      "cell_type": "markdown",
      "source": [
        "## Final Test Evaluation"
      ],
      "metadata": {
        "id": "yAoCM7HfwRIA"
      }
    },
    {
      "cell_type": "code",
      "source": [
        "model.eval()\n",
        "with torch.no_grad():\n",
        "    out_all = model(pyg_data.x, pyg_data.edge_index)\n",
        "    probs_all = torch.softmax(out_all, dim=1)[:,1].cpu().numpy()\n",
        "    labels_all = pyg_data.y.cpu().numpy()"
      ],
      "metadata": {
        "id": "O5uNsV2KwRIA"
      },
      "execution_count": null,
      "outputs": []
    },
    {
      "cell_type": "code",
      "source": [
        "test_mask_np = pyg_data.test_mask.cpu().numpy()\n",
        "y_test_true  = labels_all[test_mask_np]\n",
        "y_test_prob  = probs_all[test_mask_np]\n",
        "\n",
        "M_test = y_test_true.shape[0]"
      ],
      "metadata": {
        "id": "H1kGzgLdwRIA"
      },
      "execution_count": null,
      "outputs": []
    },
    {
      "cell_type": "code",
      "source": [
        "train_mask_np = pyg_data.train_mask.cpu().numpy()\n",
        "y_train_true  = labels_all[train_mask_np]\n",
        "prevalence    = y_train_true.mean()"
      ],
      "metadata": {
        "id": "jpv49APrwRIA"
      },
      "execution_count": null,
      "outputs": []
    },
    {
      "cell_type": "code",
      "source": [
        "cutoffs = {\n",
        "    \"Top 0.1%\":        max(1, int(0.001 * M_test)),\n",
        "    \"Top 1%\":          max(1, int(0.01  * M_test)),\n",
        "    \"Top 10%\":         max(1, int(0.10  * M_test)),\n",
        "    \"Prevalence\": max(1, int(prevalence * M_test))\n",
        "}"
      ],
      "metadata": {
        "id": "CzwzGQKawRIA"
      },
      "execution_count": null,
      "outputs": []
    },
    {
      "cell_type": "code",
      "source": [
        "n_runs = 100\n",
        "metrics = {\n",
        "    \"roc_auc\":     [],\n",
        "    \"pr_auc\":      [],\n",
        "    **{f\"{name}_P\": [] for name in cutoffs},\n",
        "    **{f\"{name}_R\": [] for name in cutoffs},\n",
        "    **{f\"{name}_F1\": [] for name in cutoffs},\n",
        "}\n",
        "\n",
        "rng       = np.random.RandomState(42)\n",
        "half_size = M_test // 2"
      ],
      "metadata": {
        "id": "HLH8T_iBwRIB"
      },
      "execution_count": null,
      "outputs": []
    },
    {
      "cell_type": "code",
      "source": [
        "for _ in range(n_runs):\n",
        "    idxs = rng.choice(M_test, size=half_size, replace=False)\n",
        "    y_true_bs = y_test_true[idxs]\n",
        "    y_prob_bs = y_test_prob[idxs]\n",
        "\n",
        "    metrics[\"roc_auc\"].append(roc_auc_score(y_true_bs, y_prob_bs))\n",
        "    metrics[\"pr_auc\"].append(average_precision_score(y_true_bs, y_prob_bs))\n",
        "\n",
        "    sorted_idx = np.argsort(y_prob_bs)\n",
        "    for name, k in cutoffs.items():\n",
        "        topk = sorted_idx[-k:]\n",
        "        y_pred_bs = np.zeros_like(y_prob_bs, dtype=int)\n",
        "        y_pred_bs[topk] = 1\n",
        "\n",
        "        metrics[f\"{name}_P\"].append(precision_score(y_true_bs, y_pred_bs, zero_division=0))\n",
        "        metrics[f\"{name}_R\"].append(recall_score(y_true_bs, y_pred_bs, zero_division=0))\n",
        "        metrics[f\"{name}_F1\"].append(f1_score(y_true_bs, y_pred_bs, zero_division=0))"
      ],
      "metadata": {
        "id": "7IZNtAiewRIB"
      },
      "execution_count": null,
      "outputs": []
    },
    {
      "cell_type": "code",
      "source": [
        "for run_i in range(n_runs):\n",
        "    idxs = rng.choice(M_test, size=half_size, replace=False)\n",
        "    y_true_bs = y_test_true[idxs]\n",
        "    y_prob_bs = y_test_prob[idxs]\n",
        "\n",
        "    k0p1  = max(1, int(0.001 * half_size))\n",
        "    k1p   = max(1, int(0.01  * half_size))\n",
        "    k10p  = max(1, int(0.10  * half_size))\n",
        "    kprev = max(1, int(prevalence * half_size))\n",
        "\n",
        "    metrics[\"roc_auc\"].append(roc_auc_score(y_true_bs, y_prob_bs))\n",
        "    metrics[\"pr_auc\"].append(average_precision_score(y_true_bs, y_prob_bs))\n",
        "\n",
        "    sorted_idx = np.argsort(y_prob_bs)\n",
        "\n",
        "    sample_cutoffs = {\n",
        "        \"Top 0.1%\":  k0p1,\n",
        "        \"Top 1%\":    k1p,\n",
        "        \"Top 10%\":   k10p,\n",
        "        \"Prevalence\":kprev\n",
        "    }\n",
        "\n",
        "    for name in cutoffs.keys():\n",
        "        k_sample = sample_cutoffs[name]\n",
        "        topk = sorted_idx[-k_sample:]\n",
        "\n",
        "        y_pred_bs = np.zeros_like(y_prob_bs, dtype=int)\n",
        "        y_pred_bs[topk] = 1\n",
        "\n",
        "        p = precision_score(y_true_bs, y_pred_bs, zero_division=0)\n",
        "        r = recall_score(y_true_bs, y_pred_bs, zero_division=0)\n",
        "        f = f1_score(y_true_bs, y_pred_bs, zero_division=0)\n",
        "        metrics[f\"{name}_P\"].append(p)\n",
        "        metrics[f\"{name}_R\"].append(r)\n",
        "        metrics[f\"{name}_F1\"].append(f)"
      ],
      "metadata": {
        "id": "B-gNDdXZh0tz"
      },
      "execution_count": null,
      "outputs": []
    },
    {
      "cell_type": "code",
      "source": [
        "def fmt(name):\n",
        "    arr = np.array(metrics[name])\n",
        "    return f\"{arr.mean():.3f} ± {arr.std():.3f}\"\n",
        "\n",
        "print(\"\\n=== GraphSAGE Test Results (n=100 bootstraps) ===\")\n",
        "print(f\"AUC-ROC  : {fmt('roc_auc')}\")\n",
        "print(f\"AUC-PR   : {fmt('pr_auc')}\")\n",
        "for name in cutoffs:\n",
        "    print(f\"{name:12} Precision: {fmt(name + '_P')}\")\n",
        "    print(f\"{name:12} Recall   : {fmt(name + '_R')}\")\n",
        "    print(f\"{name:12} F1-score : {fmt(name + '_F1')}\")"
      ],
      "metadata": {
        "colab": {
          "base_uri": "https://localhost:8080/"
        },
        "id": "7ci6JmiRdhUM",
        "outputId": "c35dd195-ca37-4993-e6db-69d039517296"
      },
      "execution_count": null,
      "outputs": [
        {
          "output_type": "stream",
          "name": "stdout",
          "text": [
            "\n",
            "=== GraphSAGE Test Results (n=100 bootstraps) ===\n",
            "AUC-ROC  : 0.806 ± 0.011\n",
            "AUC-PR   : 0.526 ± 0.022\n",
            "Top 0.1%     Precision: 0.909 ± 0.101\n",
            "Top 0.1%     Recall   : 0.023 ± 0.010\n",
            "Top 0.1%     F1-score : 0.045 ± 0.019\n",
            "Top 1%       Precision: 0.957 ± 0.029\n",
            "Top 1%       Recall   : 0.269 ± 0.087\n",
            "Top 1%       F1-score : 0.411 ± 0.104\n",
            "Top 10%      Precision: 0.229 ± 0.065\n",
            "Top 10%      Recall   : 0.592 ± 0.044\n",
            "Top 10%      F1-score : 0.322 ± 0.062\n",
            "Prevalence   Precision: 0.212 ± 0.059\n",
            "Prevalence   Recall   : 0.605 ± 0.048\n",
            "Prevalence   F1-score : 0.307 ± 0.059\n"
          ]
        }
      ]
    },
    {
      "cell_type": "code",
      "execution_count": null,
      "metadata": {
        "id": "apsuxaGh8uo2"
      },
      "outputs": [],
      "source": []
    }
  ],
  "metadata": {
    "colab": {
      "provenance": []
    },
    "kernelspec": {
      "display_name": "Python 3",
      "name": "python3"
    },
    "language_info": {
      "name": "python"
    }
  },
  "nbformat": 4,
  "nbformat_minor": 0
}