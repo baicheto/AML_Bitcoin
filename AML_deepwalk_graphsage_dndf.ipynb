{
  "cells": [
    {
      "cell_type": "markdown",
      "metadata": {
        "id": "view-in-github"
      },
      "source": [
        "<a href=\"https://colab.research.google.com/github/baicheto/AML_Bitcoin/blob/Kri/AML_2.ipynb\" target=\"_parent\"><img src=\"https://colab.research.google.com/assets/colab-badge.svg\" alt=\"Open In Colab\"/></a>"
      ]
    },
    {
      "cell_type": "markdown",
      "metadata": {
        "id": "jcTZDNmbZrQr"
      },
      "source": [
        "## **Anti-Money Launderig - Elliptic dataset**\n",
        "- The dataset is a transaction graph collected from the Bitcoin blockchain. A node in the graph represents a transaction, an edge can be viewed as a flow of Bitcoins between one transaction and the other. Each node has 166 features and has been labeled as being created by a \"licit\", \"illicit\" or \"unknown\" entity.\n",
        "- The graph is made of 203,769 nodes and 234,355 edges. Two percent (4,545) of the nodes are labelled class1 (illicit). Twenty-one percent (42,019) are labelled class2 (licit). The remaining transactions are not labelled with regard to licit versus illicit.\n",
        "\n"
      ]
    },
    {
      "cell_type": "code",
      "execution_count": null,
      "metadata": {
        "id": "LMEfgF8zlShr"
      },
      "outputs": [],
      "source": [
        "!pip install --quiet --upgrade pip setuptools\n",
        "!pip install --quiet torch_geometric gensim matplotlib seaborn networkx python-louvain scikit-learn scipy"
      ]
    },
    {
      "cell_type": "code",
      "execution_count": 2,
      "metadata": {
        "id": "bZa680NddoOh"
      },
      "outputs": [],
      "source": [
        "# # for CUDA 11.6 + PyTorch 1.13.0\n",
        "# !pip install --quiet torch-scatter -f https://data.pyg.org/whl/torch-1.13.0+cu116.html\n",
        "# !pip install --quiet torch-sparse  -f https://data.pyg.org/whl/torch-1.13.0+cu116.html\n",
        "# !pip install --quiet torch-cluster -f https://data.pyg.org/whl/torch-1.13.0+cu116.html\n",
        "# !pip install --quiet torch-spline-conv -f https://data.pyg.org/whl/torch-1.13.0+cu116.html\n",
        "# !pip install --quiet pyg-lib"
      ]
    },
    {
      "cell_type": "code",
      "execution_count": null,
      "metadata": {
        "id": "w2CPOCQFfBm1"
      },
      "outputs": [],
      "source": [
        "# First, uninstall existing versions to avoid conflicts\n",
        "!pip uninstall -y torch torch-scatter torch-sparse torch-cluster torch-spline-conv pyg-lib torch-geometric\n",
        "\n",
        "# Install PyTorch 2.0.0 with CUDA 11.7\n",
        "!pip install --quiet torch==2.0.0+cu117 torchvision==0.15.1+cu117 torchaudio==2.0.1 --index-url https://download.pytorch.org/whl/cu117\n",
        "\n",
        "# Install PyTorch Geometric dependencies with prebuilt wheels\n",
        "!pip install --quiet torch-scatter torch-sparse torch-cluster torch-spline-conv pyg-lib torch-geometric -f https://data.pyg.org/whl/torch-2.0.0+cu117.html\n"
      ]
    },
    {
      "cell_type": "markdown",
      "source": [
        "**After running the cells above, manually Restart Runtime**"
      ],
      "metadata": {
        "id": "0uZ0CGl4xrWp"
      }
    },
    {
      "cell_type": "code",
      "execution_count": 1,
      "metadata": {
        "colab": {
          "base_uri": "https://localhost:8080/"
        },
        "id": "-nOntRwIZo-0",
        "outputId": "28ac533f-c389-48fc-ce29-08121d0d98fa"
      },
      "outputs": [
        {
          "output_type": "stream",
          "name": "stdout",
          "text": [
            "Mounted at /content/drive\n"
          ]
        }
      ],
      "source": [
        "from google.colab import drive\n",
        "\n",
        "drive.mount('/content/drive')\n",
        "file_path = '/content/drive/MyDrive/AML/elliptic_bitcoin_dataset'\n"
      ]
    },
    {
      "cell_type": "code",
      "execution_count": 43,
      "metadata": {
        "colab": {
          "base_uri": "https://localhost:8080/"
        },
        "id": "WhvvBlCOZ5tJ",
        "outputId": "a8874334-20e0-4226-bc77-2de9d85d954a"
      },
      "outputs": [
        {
          "output_type": "stream",
          "name": "stdout",
          "text": [
            "Torch version: 2.0.0+cu117\n",
            "Torch Geometric version: 2.6.1\n"
          ]
        }
      ],
      "source": [
        "import numpy as np\n",
        "import pandas as pd\n",
        "import matplotlib as mpl\n",
        "import matplotlib.pyplot as plt\n",
        "import seaborn as sns\n",
        "import networkx as nx\n",
        "import community as community_louvain\n",
        "import random, multiprocessing as mp, itertools, json, os\n",
        "import gensim\n",
        "from gensim.models import Word2Vec\n",
        "import torch\n",
        "import torch.nn as nn\n",
        "import torch.nn.functional as F\n",
        "from torch import Tensor\n",
        "import torch_geometric\n",
        "import torch_geometric as tg\n",
        "from torch_geometric.data import Data\n",
        "from torch_geometric.utils import from_networkx\n",
        "from torch_geometric.loader import NeighborLoader\n",
        "from torch_geometric.nn import GCNConv, GATConv, SAGEConv\n",
        "from sklearn.metrics import (\n",
        "    precision_score,\n",
        "    recall_score,\n",
        "    f1_score,\n",
        "    confusion_matrix,\n",
        "    classification_report,\n",
        "    ConfusionMatrixDisplay\n",
        ")\n",
        "from sklearn.preprocessing import LabelEncoder\n",
        "from sklearn.manifold import TSNE\n",
        "from scipy.stats import ttest_ind\n",
        "from sklearn.metrics import roc_auc_score, average_precision_score\n",
        "\n",
        "\n",
        "print(\"Torch version:\", torch.__version__)\n",
        "print(\"Torch Geometric version:\", torch_geometric.__version__)\n",
        "\n",
        "import warnings\n",
        "warnings.filterwarnings(\"ignore\", category=FutureWarning)\n",
        "warnings.filterwarnings(\"ignore\", category=mpl.MatplotlibDeprecationWarning)"
      ]
    },
    {
      "cell_type": "markdown",
      "metadata": {
        "id": "ikS1ibqmaA91"
      },
      "source": [
        "### 1. Read the files"
      ]
    },
    {
      "cell_type": "code",
      "execution_count": 3,
      "metadata": {
        "id": "X_g5J4WzZ8Y9"
      },
      "outputs": [],
      "source": [
        "features = pd.read_csv('/content/drive/MyDrive/AML/elliptic_bitcoin_dataset/elliptic_txs_features.csv', header=None)\n",
        "edges = pd.read_csv('/content/drive/MyDrive/AML/elliptic_bitcoin_dataset/elliptic_txs_edgelist.csv')\n",
        "classes = pd.read_csv('/content/drive/MyDrive/AML/elliptic_bitcoin_dataset/elliptic_txs_classes.csv')"
      ]
    },
    {
      "cell_type": "code",
      "execution_count": 4,
      "metadata": {
        "colab": {
          "base_uri": "https://localhost:8080/"
        },
        "id": "jfj0LY_YaGy9",
        "outputId": "0efa95d1-b499-4233-b8f4-6e3058ec293d"
      },
      "outputs": [
        {
          "output_type": "stream",
          "name": "stdout",
          "text": [
            "Shapes\n",
            "    Features :  203,769 (rows)   167 (cols)\n",
            "    Classes  :  203,769 (rows)     2 (cols)\n",
            "    Edgelist :  234,355 (rows)     2 (cols)\n",
            "\n"
          ]
        }
      ],
      "source": [
        "trans_features = [\"trans_feat_\"+str(i) for i in range(2,95)]\n",
        "agg_features = [\"agg_feat_\"+str(i) for i in range(1,73)]\n",
        "features.columns = [\"txId\",\"time_step\"] + trans_features + agg_features\n",
        "\n",
        "print(f\"\"\"Shapes\n",
        "{4*' '}Features : {features.shape[0]:8,} (rows)  {features.shape[1]:4,} (cols)\n",
        "{4*' '}Classes  : {classes.shape[0]:8,} (rows)  {classes.shape[1]:4,} (cols)\n",
        "{4*' '}Edgelist : {edges.shape[0]:8,} (rows)  {edges.shape[1]:4,} (cols)\n",
        "\"\"\")\n"
      ]
    },
    {
      "cell_type": "code",
      "execution_count": 5,
      "metadata": {
        "colab": {
          "base_uri": "https://localhost:8080/",
          "height": 256
        },
        "id": "GKtdzUWEaOD9",
        "outputId": "d495105a-36ac-4371-8baf-ade4418c5850"
      },
      "outputs": [
        {
          "output_type": "execute_result",
          "data": {
            "text/plain": [
              "        txId  time_step  trans_feat_2  trans_feat_3  trans_feat_4  \\\n",
              "0  230425980          1     -0.171469     -0.184668     -1.201369   \n",
              "1    5530458          1     -0.171484     -0.184668     -1.201369   \n",
              "2  232022460          1     -0.172107     -0.184668     -1.201369   \n",
              "3  232438397          1      0.163054      1.963790     -0.646376   \n",
              "4  230460314          1      1.011523     -0.081127     -1.201369   \n",
              "\n",
              "   trans_feat_5  trans_feat_6  trans_feat_7  trans_feat_8  trans_feat_9  ...  \\\n",
              "0     -0.121970     -0.043875     -0.113002     -0.061584     -0.162097  ...   \n",
              "1     -0.121970     -0.043875     -0.113002     -0.061584     -0.162112  ...   \n",
              "2     -0.121970     -0.043875     -0.113002     -0.061584     -0.162749  ...   \n",
              "3     12.409294     -0.063725      9.782742     12.414558     -0.163645  ...   \n",
              "4      1.153668      0.333276      1.312656     -0.061584     -0.163523  ...   \n",
              "\n",
              "   agg_feat_63  agg_feat_64  agg_feat_65  agg_feat_66  agg_feat_67  \\\n",
              "0    -0.562153    -0.600999     1.461330     1.461369     0.018279   \n",
              "1     0.947382     0.673103    -0.979074    -0.978556     0.018279   \n",
              "2     0.670883     0.439728    -0.979074    -0.978556    -0.098889   \n",
              "3    -0.577099    -0.613614     0.241128     0.241406     1.072793   \n",
              "4    -0.511871    -0.400422     0.517257     0.579382     0.018279   \n",
              "\n",
              "   agg_feat_68  agg_feat_69  agg_feat_70  agg_feat_71  agg_feat_72  \n",
              "0    -0.087490    -0.131155    -0.097524    -0.120613    -0.119792  \n",
              "1    -0.087490    -0.131155    -0.097524    -0.120613    -0.119792  \n",
              "2    -0.106715    -0.131155    -0.183671    -0.120613    -0.119792  \n",
              "3     0.085530    -0.131155     0.677799    -0.120613    -0.119792  \n",
              "4     0.277775     0.326394     1.293750     0.178136     0.179117  \n",
              "\n",
              "[5 rows x 167 columns]"
            ],
            "text/html": [
              "\n",
              "  <div id=\"df-31e094d6-0fd5-4dae-9810-ac89e6102066\" class=\"colab-df-container\">\n",
              "    <div>\n",
              "<style scoped>\n",
              "    .dataframe tbody tr th:only-of-type {\n",
              "        vertical-align: middle;\n",
              "    }\n",
              "\n",
              "    .dataframe tbody tr th {\n",
              "        vertical-align: top;\n",
              "    }\n",
              "\n",
              "    .dataframe thead th {\n",
              "        text-align: right;\n",
              "    }\n",
              "</style>\n",
              "<table border=\"1\" class=\"dataframe\">\n",
              "  <thead>\n",
              "    <tr style=\"text-align: right;\">\n",
              "      <th></th>\n",
              "      <th>txId</th>\n",
              "      <th>time_step</th>\n",
              "      <th>trans_feat_2</th>\n",
              "      <th>trans_feat_3</th>\n",
              "      <th>trans_feat_4</th>\n",
              "      <th>trans_feat_5</th>\n",
              "      <th>trans_feat_6</th>\n",
              "      <th>trans_feat_7</th>\n",
              "      <th>trans_feat_8</th>\n",
              "      <th>trans_feat_9</th>\n",
              "      <th>...</th>\n",
              "      <th>agg_feat_63</th>\n",
              "      <th>agg_feat_64</th>\n",
              "      <th>agg_feat_65</th>\n",
              "      <th>agg_feat_66</th>\n",
              "      <th>agg_feat_67</th>\n",
              "      <th>agg_feat_68</th>\n",
              "      <th>agg_feat_69</th>\n",
              "      <th>agg_feat_70</th>\n",
              "      <th>agg_feat_71</th>\n",
              "      <th>agg_feat_72</th>\n",
              "    </tr>\n",
              "  </thead>\n",
              "  <tbody>\n",
              "    <tr>\n",
              "      <th>0</th>\n",
              "      <td>230425980</td>\n",
              "      <td>1</td>\n",
              "      <td>-0.171469</td>\n",
              "      <td>-0.184668</td>\n",
              "      <td>-1.201369</td>\n",
              "      <td>-0.121970</td>\n",
              "      <td>-0.043875</td>\n",
              "      <td>-0.113002</td>\n",
              "      <td>-0.061584</td>\n",
              "      <td>-0.162097</td>\n",
              "      <td>...</td>\n",
              "      <td>-0.562153</td>\n",
              "      <td>-0.600999</td>\n",
              "      <td>1.461330</td>\n",
              "      <td>1.461369</td>\n",
              "      <td>0.018279</td>\n",
              "      <td>-0.087490</td>\n",
              "      <td>-0.131155</td>\n",
              "      <td>-0.097524</td>\n",
              "      <td>-0.120613</td>\n",
              "      <td>-0.119792</td>\n",
              "    </tr>\n",
              "    <tr>\n",
              "      <th>1</th>\n",
              "      <td>5530458</td>\n",
              "      <td>1</td>\n",
              "      <td>-0.171484</td>\n",
              "      <td>-0.184668</td>\n",
              "      <td>-1.201369</td>\n",
              "      <td>-0.121970</td>\n",
              "      <td>-0.043875</td>\n",
              "      <td>-0.113002</td>\n",
              "      <td>-0.061584</td>\n",
              "      <td>-0.162112</td>\n",
              "      <td>...</td>\n",
              "      <td>0.947382</td>\n",
              "      <td>0.673103</td>\n",
              "      <td>-0.979074</td>\n",
              "      <td>-0.978556</td>\n",
              "      <td>0.018279</td>\n",
              "      <td>-0.087490</td>\n",
              "      <td>-0.131155</td>\n",
              "      <td>-0.097524</td>\n",
              "      <td>-0.120613</td>\n",
              "      <td>-0.119792</td>\n",
              "    </tr>\n",
              "    <tr>\n",
              "      <th>2</th>\n",
              "      <td>232022460</td>\n",
              "      <td>1</td>\n",
              "      <td>-0.172107</td>\n",
              "      <td>-0.184668</td>\n",
              "      <td>-1.201369</td>\n",
              "      <td>-0.121970</td>\n",
              "      <td>-0.043875</td>\n",
              "      <td>-0.113002</td>\n",
              "      <td>-0.061584</td>\n",
              "      <td>-0.162749</td>\n",
              "      <td>...</td>\n",
              "      <td>0.670883</td>\n",
              "      <td>0.439728</td>\n",
              "      <td>-0.979074</td>\n",
              "      <td>-0.978556</td>\n",
              "      <td>-0.098889</td>\n",
              "      <td>-0.106715</td>\n",
              "      <td>-0.131155</td>\n",
              "      <td>-0.183671</td>\n",
              "      <td>-0.120613</td>\n",
              "      <td>-0.119792</td>\n",
              "    </tr>\n",
              "    <tr>\n",
              "      <th>3</th>\n",
              "      <td>232438397</td>\n",
              "      <td>1</td>\n",
              "      <td>0.163054</td>\n",
              "      <td>1.963790</td>\n",
              "      <td>-0.646376</td>\n",
              "      <td>12.409294</td>\n",
              "      <td>-0.063725</td>\n",
              "      <td>9.782742</td>\n",
              "      <td>12.414558</td>\n",
              "      <td>-0.163645</td>\n",
              "      <td>...</td>\n",
              "      <td>-0.577099</td>\n",
              "      <td>-0.613614</td>\n",
              "      <td>0.241128</td>\n",
              "      <td>0.241406</td>\n",
              "      <td>1.072793</td>\n",
              "      <td>0.085530</td>\n",
              "      <td>-0.131155</td>\n",
              "      <td>0.677799</td>\n",
              "      <td>-0.120613</td>\n",
              "      <td>-0.119792</td>\n",
              "    </tr>\n",
              "    <tr>\n",
              "      <th>4</th>\n",
              "      <td>230460314</td>\n",
              "      <td>1</td>\n",
              "      <td>1.011523</td>\n",
              "      <td>-0.081127</td>\n",
              "      <td>-1.201369</td>\n",
              "      <td>1.153668</td>\n",
              "      <td>0.333276</td>\n",
              "      <td>1.312656</td>\n",
              "      <td>-0.061584</td>\n",
              "      <td>-0.163523</td>\n",
              "      <td>...</td>\n",
              "      <td>-0.511871</td>\n",
              "      <td>-0.400422</td>\n",
              "      <td>0.517257</td>\n",
              "      <td>0.579382</td>\n",
              "      <td>0.018279</td>\n",
              "      <td>0.277775</td>\n",
              "      <td>0.326394</td>\n",
              "      <td>1.293750</td>\n",
              "      <td>0.178136</td>\n",
              "      <td>0.179117</td>\n",
              "    </tr>\n",
              "  </tbody>\n",
              "</table>\n",
              "<p>5 rows × 167 columns</p>\n",
              "</div>\n",
              "    <div class=\"colab-df-buttons\">\n",
              "\n",
              "  <div class=\"colab-df-container\">\n",
              "    <button class=\"colab-df-convert\" onclick=\"convertToInteractive('df-31e094d6-0fd5-4dae-9810-ac89e6102066')\"\n",
              "            title=\"Convert this dataframe to an interactive table.\"\n",
              "            style=\"display:none;\">\n",
              "\n",
              "  <svg xmlns=\"http://www.w3.org/2000/svg\" height=\"24px\" viewBox=\"0 -960 960 960\">\n",
              "    <path d=\"M120-120v-720h720v720H120Zm60-500h600v-160H180v160Zm220 220h160v-160H400v160Zm0 220h160v-160H400v160ZM180-400h160v-160H180v160Zm440 0h160v-160H620v160ZM180-180h160v-160H180v160Zm440 0h160v-160H620v160Z\"/>\n",
              "  </svg>\n",
              "    </button>\n",
              "\n",
              "  <style>\n",
              "    .colab-df-container {\n",
              "      display:flex;\n",
              "      gap: 12px;\n",
              "    }\n",
              "\n",
              "    .colab-df-convert {\n",
              "      background-color: #E8F0FE;\n",
              "      border: none;\n",
              "      border-radius: 50%;\n",
              "      cursor: pointer;\n",
              "      display: none;\n",
              "      fill: #1967D2;\n",
              "      height: 32px;\n",
              "      padding: 0 0 0 0;\n",
              "      width: 32px;\n",
              "    }\n",
              "\n",
              "    .colab-df-convert:hover {\n",
              "      background-color: #E2EBFA;\n",
              "      box-shadow: 0px 1px 2px rgba(60, 64, 67, 0.3), 0px 1px 3px 1px rgba(60, 64, 67, 0.15);\n",
              "      fill: #174EA6;\n",
              "    }\n",
              "\n",
              "    .colab-df-buttons div {\n",
              "      margin-bottom: 4px;\n",
              "    }\n",
              "\n",
              "    [theme=dark] .colab-df-convert {\n",
              "      background-color: #3B4455;\n",
              "      fill: #D2E3FC;\n",
              "    }\n",
              "\n",
              "    [theme=dark] .colab-df-convert:hover {\n",
              "      background-color: #434B5C;\n",
              "      box-shadow: 0px 1px 3px 1px rgba(0, 0, 0, 0.15);\n",
              "      filter: drop-shadow(0px 1px 2px rgba(0, 0, 0, 0.3));\n",
              "      fill: #FFFFFF;\n",
              "    }\n",
              "  </style>\n",
              "\n",
              "    <script>\n",
              "      const buttonEl =\n",
              "        document.querySelector('#df-31e094d6-0fd5-4dae-9810-ac89e6102066 button.colab-df-convert');\n",
              "      buttonEl.style.display =\n",
              "        google.colab.kernel.accessAllowed ? 'block' : 'none';\n",
              "\n",
              "      async function convertToInteractive(key) {\n",
              "        const element = document.querySelector('#df-31e094d6-0fd5-4dae-9810-ac89e6102066');\n",
              "        const dataTable =\n",
              "          await google.colab.kernel.invokeFunction('convertToInteractive',\n",
              "                                                    [key], {});\n",
              "        if (!dataTable) return;\n",
              "\n",
              "        const docLinkHtml = 'Like what you see? Visit the ' +\n",
              "          '<a target=\"_blank\" href=https://colab.research.google.com/notebooks/data_table.ipynb>data table notebook</a>'\n",
              "          + ' to learn more about interactive tables.';\n",
              "        element.innerHTML = '';\n",
              "        dataTable['output_type'] = 'display_data';\n",
              "        await google.colab.output.renderOutput(dataTable, element);\n",
              "        const docLink = document.createElement('div');\n",
              "        docLink.innerHTML = docLinkHtml;\n",
              "        element.appendChild(docLink);\n",
              "      }\n",
              "    </script>\n",
              "  </div>\n",
              "\n",
              "\n",
              "    <div id=\"df-7e88baeb-f2ec-4520-a488-09743819dd59\">\n",
              "      <button class=\"colab-df-quickchart\" onclick=\"quickchart('df-7e88baeb-f2ec-4520-a488-09743819dd59')\"\n",
              "                title=\"Suggest charts\"\n",
              "                style=\"display:none;\">\n",
              "\n",
              "<svg xmlns=\"http://www.w3.org/2000/svg\" height=\"24px\"viewBox=\"0 0 24 24\"\n",
              "     width=\"24px\">\n",
              "    <g>\n",
              "        <path d=\"M19 3H5c-1.1 0-2 .9-2 2v14c0 1.1.9 2 2 2h14c1.1 0 2-.9 2-2V5c0-1.1-.9-2-2-2zM9 17H7v-7h2v7zm4 0h-2V7h2v10zm4 0h-2v-4h2v4z\"/>\n",
              "    </g>\n",
              "</svg>\n",
              "      </button>\n",
              "\n",
              "<style>\n",
              "  .colab-df-quickchart {\n",
              "      --bg-color: #E8F0FE;\n",
              "      --fill-color: #1967D2;\n",
              "      --hover-bg-color: #E2EBFA;\n",
              "      --hover-fill-color: #174EA6;\n",
              "      --disabled-fill-color: #AAA;\n",
              "      --disabled-bg-color: #DDD;\n",
              "  }\n",
              "\n",
              "  [theme=dark] .colab-df-quickchart {\n",
              "      --bg-color: #3B4455;\n",
              "      --fill-color: #D2E3FC;\n",
              "      --hover-bg-color: #434B5C;\n",
              "      --hover-fill-color: #FFFFFF;\n",
              "      --disabled-bg-color: #3B4455;\n",
              "      --disabled-fill-color: #666;\n",
              "  }\n",
              "\n",
              "  .colab-df-quickchart {\n",
              "    background-color: var(--bg-color);\n",
              "    border: none;\n",
              "    border-radius: 50%;\n",
              "    cursor: pointer;\n",
              "    display: none;\n",
              "    fill: var(--fill-color);\n",
              "    height: 32px;\n",
              "    padding: 0;\n",
              "    width: 32px;\n",
              "  }\n",
              "\n",
              "  .colab-df-quickchart:hover {\n",
              "    background-color: var(--hover-bg-color);\n",
              "    box-shadow: 0 1px 2px rgba(60, 64, 67, 0.3), 0 1px 3px 1px rgba(60, 64, 67, 0.15);\n",
              "    fill: var(--button-hover-fill-color);\n",
              "  }\n",
              "\n",
              "  .colab-df-quickchart-complete:disabled,\n",
              "  .colab-df-quickchart-complete:disabled:hover {\n",
              "    background-color: var(--disabled-bg-color);\n",
              "    fill: var(--disabled-fill-color);\n",
              "    box-shadow: none;\n",
              "  }\n",
              "\n",
              "  .colab-df-spinner {\n",
              "    border: 2px solid var(--fill-color);\n",
              "    border-color: transparent;\n",
              "    border-bottom-color: var(--fill-color);\n",
              "    animation:\n",
              "      spin 1s steps(1) infinite;\n",
              "  }\n",
              "\n",
              "  @keyframes spin {\n",
              "    0% {\n",
              "      border-color: transparent;\n",
              "      border-bottom-color: var(--fill-color);\n",
              "      border-left-color: var(--fill-color);\n",
              "    }\n",
              "    20% {\n",
              "      border-color: transparent;\n",
              "      border-left-color: var(--fill-color);\n",
              "      border-top-color: var(--fill-color);\n",
              "    }\n",
              "    30% {\n",
              "      border-color: transparent;\n",
              "      border-left-color: var(--fill-color);\n",
              "      border-top-color: var(--fill-color);\n",
              "      border-right-color: var(--fill-color);\n",
              "    }\n",
              "    40% {\n",
              "      border-color: transparent;\n",
              "      border-right-color: var(--fill-color);\n",
              "      border-top-color: var(--fill-color);\n",
              "    }\n",
              "    60% {\n",
              "      border-color: transparent;\n",
              "      border-right-color: var(--fill-color);\n",
              "    }\n",
              "    80% {\n",
              "      border-color: transparent;\n",
              "      border-right-color: var(--fill-color);\n",
              "      border-bottom-color: var(--fill-color);\n",
              "    }\n",
              "    90% {\n",
              "      border-color: transparent;\n",
              "      border-bottom-color: var(--fill-color);\n",
              "    }\n",
              "  }\n",
              "</style>\n",
              "\n",
              "      <script>\n",
              "        async function quickchart(key) {\n",
              "          const quickchartButtonEl =\n",
              "            document.querySelector('#' + key + ' button');\n",
              "          quickchartButtonEl.disabled = true;  // To prevent multiple clicks.\n",
              "          quickchartButtonEl.classList.add('colab-df-spinner');\n",
              "          try {\n",
              "            const charts = await google.colab.kernel.invokeFunction(\n",
              "                'suggestCharts', [key], {});\n",
              "          } catch (error) {\n",
              "            console.error('Error during call to suggestCharts:', error);\n",
              "          }\n",
              "          quickchartButtonEl.classList.remove('colab-df-spinner');\n",
              "          quickchartButtonEl.classList.add('colab-df-quickchart-complete');\n",
              "        }\n",
              "        (() => {\n",
              "          let quickchartButtonEl =\n",
              "            document.querySelector('#df-7e88baeb-f2ec-4520-a488-09743819dd59 button');\n",
              "          quickchartButtonEl.style.display =\n",
              "            google.colab.kernel.accessAllowed ? 'block' : 'none';\n",
              "        })();\n",
              "      </script>\n",
              "    </div>\n",
              "\n",
              "    </div>\n",
              "  </div>\n"
            ],
            "application/vnd.google.colaboratory.intrinsic+json": {
              "type": "dataframe",
              "variable_name": "features"
            }
          },
          "metadata": {},
          "execution_count": 5
        }
      ],
      "source": [
        "features.head()"
      ]
    },
    {
      "cell_type": "code",
      "execution_count": 6,
      "metadata": {
        "colab": {
          "base_uri": "https://localhost:8080/",
          "height": 206
        },
        "id": "pkR6ae3xaScD",
        "outputId": "02ffbbc1-c1d9-44d6-ad13-5346d6190f46"
      },
      "outputs": [
        {
          "output_type": "execute_result",
          "data": {
            "text/plain": [
              "       txId1      txId2\n",
              "0  230425980    5530458\n",
              "1  232022460  232438397\n",
              "2  230460314  230459870\n",
              "3  230333930  230595899\n",
              "4  232013274  232029206"
            ],
            "text/html": [
              "\n",
              "  <div id=\"df-6d769e94-5bce-49d8-9652-7e37354b9dd6\" class=\"colab-df-container\">\n",
              "    <div>\n",
              "<style scoped>\n",
              "    .dataframe tbody tr th:only-of-type {\n",
              "        vertical-align: middle;\n",
              "    }\n",
              "\n",
              "    .dataframe tbody tr th {\n",
              "        vertical-align: top;\n",
              "    }\n",
              "\n",
              "    .dataframe thead th {\n",
              "        text-align: right;\n",
              "    }\n",
              "</style>\n",
              "<table border=\"1\" class=\"dataframe\">\n",
              "  <thead>\n",
              "    <tr style=\"text-align: right;\">\n",
              "      <th></th>\n",
              "      <th>txId1</th>\n",
              "      <th>txId2</th>\n",
              "    </tr>\n",
              "  </thead>\n",
              "  <tbody>\n",
              "    <tr>\n",
              "      <th>0</th>\n",
              "      <td>230425980</td>\n",
              "      <td>5530458</td>\n",
              "    </tr>\n",
              "    <tr>\n",
              "      <th>1</th>\n",
              "      <td>232022460</td>\n",
              "      <td>232438397</td>\n",
              "    </tr>\n",
              "    <tr>\n",
              "      <th>2</th>\n",
              "      <td>230460314</td>\n",
              "      <td>230459870</td>\n",
              "    </tr>\n",
              "    <tr>\n",
              "      <th>3</th>\n",
              "      <td>230333930</td>\n",
              "      <td>230595899</td>\n",
              "    </tr>\n",
              "    <tr>\n",
              "      <th>4</th>\n",
              "      <td>232013274</td>\n",
              "      <td>232029206</td>\n",
              "    </tr>\n",
              "  </tbody>\n",
              "</table>\n",
              "</div>\n",
              "    <div class=\"colab-df-buttons\">\n",
              "\n",
              "  <div class=\"colab-df-container\">\n",
              "    <button class=\"colab-df-convert\" onclick=\"convertToInteractive('df-6d769e94-5bce-49d8-9652-7e37354b9dd6')\"\n",
              "            title=\"Convert this dataframe to an interactive table.\"\n",
              "            style=\"display:none;\">\n",
              "\n",
              "  <svg xmlns=\"http://www.w3.org/2000/svg\" height=\"24px\" viewBox=\"0 -960 960 960\">\n",
              "    <path d=\"M120-120v-720h720v720H120Zm60-500h600v-160H180v160Zm220 220h160v-160H400v160Zm0 220h160v-160H400v160ZM180-400h160v-160H180v160Zm440 0h160v-160H620v160ZM180-180h160v-160H180v160Zm440 0h160v-160H620v160Z\"/>\n",
              "  </svg>\n",
              "    </button>\n",
              "\n",
              "  <style>\n",
              "    .colab-df-container {\n",
              "      display:flex;\n",
              "      gap: 12px;\n",
              "    }\n",
              "\n",
              "    .colab-df-convert {\n",
              "      background-color: #E8F0FE;\n",
              "      border: none;\n",
              "      border-radius: 50%;\n",
              "      cursor: pointer;\n",
              "      display: none;\n",
              "      fill: #1967D2;\n",
              "      height: 32px;\n",
              "      padding: 0 0 0 0;\n",
              "      width: 32px;\n",
              "    }\n",
              "\n",
              "    .colab-df-convert:hover {\n",
              "      background-color: #E2EBFA;\n",
              "      box-shadow: 0px 1px 2px rgba(60, 64, 67, 0.3), 0px 1px 3px 1px rgba(60, 64, 67, 0.15);\n",
              "      fill: #174EA6;\n",
              "    }\n",
              "\n",
              "    .colab-df-buttons div {\n",
              "      margin-bottom: 4px;\n",
              "    }\n",
              "\n",
              "    [theme=dark] .colab-df-convert {\n",
              "      background-color: #3B4455;\n",
              "      fill: #D2E3FC;\n",
              "    }\n",
              "\n",
              "    [theme=dark] .colab-df-convert:hover {\n",
              "      background-color: #434B5C;\n",
              "      box-shadow: 0px 1px 3px 1px rgba(0, 0, 0, 0.15);\n",
              "      filter: drop-shadow(0px 1px 2px rgba(0, 0, 0, 0.3));\n",
              "      fill: #FFFFFF;\n",
              "    }\n",
              "  </style>\n",
              "\n",
              "    <script>\n",
              "      const buttonEl =\n",
              "        document.querySelector('#df-6d769e94-5bce-49d8-9652-7e37354b9dd6 button.colab-df-convert');\n",
              "      buttonEl.style.display =\n",
              "        google.colab.kernel.accessAllowed ? 'block' : 'none';\n",
              "\n",
              "      async function convertToInteractive(key) {\n",
              "        const element = document.querySelector('#df-6d769e94-5bce-49d8-9652-7e37354b9dd6');\n",
              "        const dataTable =\n",
              "          await google.colab.kernel.invokeFunction('convertToInteractive',\n",
              "                                                    [key], {});\n",
              "        if (!dataTable) return;\n",
              "\n",
              "        const docLinkHtml = 'Like what you see? Visit the ' +\n",
              "          '<a target=\"_blank\" href=https://colab.research.google.com/notebooks/data_table.ipynb>data table notebook</a>'\n",
              "          + ' to learn more about interactive tables.';\n",
              "        element.innerHTML = '';\n",
              "        dataTable['output_type'] = 'display_data';\n",
              "        await google.colab.output.renderOutput(dataTable, element);\n",
              "        const docLink = document.createElement('div');\n",
              "        docLink.innerHTML = docLinkHtml;\n",
              "        element.appendChild(docLink);\n",
              "      }\n",
              "    </script>\n",
              "  </div>\n",
              "\n",
              "\n",
              "    <div id=\"df-d0f65f4c-d8f2-4b0a-ae42-da9c0c8d469b\">\n",
              "      <button class=\"colab-df-quickchart\" onclick=\"quickchart('df-d0f65f4c-d8f2-4b0a-ae42-da9c0c8d469b')\"\n",
              "                title=\"Suggest charts\"\n",
              "                style=\"display:none;\">\n",
              "\n",
              "<svg xmlns=\"http://www.w3.org/2000/svg\" height=\"24px\"viewBox=\"0 0 24 24\"\n",
              "     width=\"24px\">\n",
              "    <g>\n",
              "        <path d=\"M19 3H5c-1.1 0-2 .9-2 2v14c0 1.1.9 2 2 2h14c1.1 0 2-.9 2-2V5c0-1.1-.9-2-2-2zM9 17H7v-7h2v7zm4 0h-2V7h2v10zm4 0h-2v-4h2v4z\"/>\n",
              "    </g>\n",
              "</svg>\n",
              "      </button>\n",
              "\n",
              "<style>\n",
              "  .colab-df-quickchart {\n",
              "      --bg-color: #E8F0FE;\n",
              "      --fill-color: #1967D2;\n",
              "      --hover-bg-color: #E2EBFA;\n",
              "      --hover-fill-color: #174EA6;\n",
              "      --disabled-fill-color: #AAA;\n",
              "      --disabled-bg-color: #DDD;\n",
              "  }\n",
              "\n",
              "  [theme=dark] .colab-df-quickchart {\n",
              "      --bg-color: #3B4455;\n",
              "      --fill-color: #D2E3FC;\n",
              "      --hover-bg-color: #434B5C;\n",
              "      --hover-fill-color: #FFFFFF;\n",
              "      --disabled-bg-color: #3B4455;\n",
              "      --disabled-fill-color: #666;\n",
              "  }\n",
              "\n",
              "  .colab-df-quickchart {\n",
              "    background-color: var(--bg-color);\n",
              "    border: none;\n",
              "    border-radius: 50%;\n",
              "    cursor: pointer;\n",
              "    display: none;\n",
              "    fill: var(--fill-color);\n",
              "    height: 32px;\n",
              "    padding: 0;\n",
              "    width: 32px;\n",
              "  }\n",
              "\n",
              "  .colab-df-quickchart:hover {\n",
              "    background-color: var(--hover-bg-color);\n",
              "    box-shadow: 0 1px 2px rgba(60, 64, 67, 0.3), 0 1px 3px 1px rgba(60, 64, 67, 0.15);\n",
              "    fill: var(--button-hover-fill-color);\n",
              "  }\n",
              "\n",
              "  .colab-df-quickchart-complete:disabled,\n",
              "  .colab-df-quickchart-complete:disabled:hover {\n",
              "    background-color: var(--disabled-bg-color);\n",
              "    fill: var(--disabled-fill-color);\n",
              "    box-shadow: none;\n",
              "  }\n",
              "\n",
              "  .colab-df-spinner {\n",
              "    border: 2px solid var(--fill-color);\n",
              "    border-color: transparent;\n",
              "    border-bottom-color: var(--fill-color);\n",
              "    animation:\n",
              "      spin 1s steps(1) infinite;\n",
              "  }\n",
              "\n",
              "  @keyframes spin {\n",
              "    0% {\n",
              "      border-color: transparent;\n",
              "      border-bottom-color: var(--fill-color);\n",
              "      border-left-color: var(--fill-color);\n",
              "    }\n",
              "    20% {\n",
              "      border-color: transparent;\n",
              "      border-left-color: var(--fill-color);\n",
              "      border-top-color: var(--fill-color);\n",
              "    }\n",
              "    30% {\n",
              "      border-color: transparent;\n",
              "      border-left-color: var(--fill-color);\n",
              "      border-top-color: var(--fill-color);\n",
              "      border-right-color: var(--fill-color);\n",
              "    }\n",
              "    40% {\n",
              "      border-color: transparent;\n",
              "      border-right-color: var(--fill-color);\n",
              "      border-top-color: var(--fill-color);\n",
              "    }\n",
              "    60% {\n",
              "      border-color: transparent;\n",
              "      border-right-color: var(--fill-color);\n",
              "    }\n",
              "    80% {\n",
              "      border-color: transparent;\n",
              "      border-right-color: var(--fill-color);\n",
              "      border-bottom-color: var(--fill-color);\n",
              "    }\n",
              "    90% {\n",
              "      border-color: transparent;\n",
              "      border-bottom-color: var(--fill-color);\n",
              "    }\n",
              "  }\n",
              "</style>\n",
              "\n",
              "      <script>\n",
              "        async function quickchart(key) {\n",
              "          const quickchartButtonEl =\n",
              "            document.querySelector('#' + key + ' button');\n",
              "          quickchartButtonEl.disabled = true;  // To prevent multiple clicks.\n",
              "          quickchartButtonEl.classList.add('colab-df-spinner');\n",
              "          try {\n",
              "            const charts = await google.colab.kernel.invokeFunction(\n",
              "                'suggestCharts', [key], {});\n",
              "          } catch (error) {\n",
              "            console.error('Error during call to suggestCharts:', error);\n",
              "          }\n",
              "          quickchartButtonEl.classList.remove('colab-df-spinner');\n",
              "          quickchartButtonEl.classList.add('colab-df-quickchart-complete');\n",
              "        }\n",
              "        (() => {\n",
              "          let quickchartButtonEl =\n",
              "            document.querySelector('#df-d0f65f4c-d8f2-4b0a-ae42-da9c0c8d469b button');\n",
              "          quickchartButtonEl.style.display =\n",
              "            google.colab.kernel.accessAllowed ? 'block' : 'none';\n",
              "        })();\n",
              "      </script>\n",
              "    </div>\n",
              "\n",
              "    </div>\n",
              "  </div>\n"
            ],
            "application/vnd.google.colaboratory.intrinsic+json": {
              "type": "dataframe",
              "variable_name": "edges"
            }
          },
          "metadata": {},
          "execution_count": 6
        }
      ],
      "source": [
        "edges.head()"
      ]
    },
    {
      "cell_type": "code",
      "execution_count": 7,
      "metadata": {
        "colab": {
          "base_uri": "https://localhost:8080/",
          "height": 206
        },
        "id": "fFQ9VaPIadOP",
        "outputId": "00acd266-28a9-4d8f-e887-b9cb5b24c861"
      },
      "outputs": [
        {
          "output_type": "execute_result",
          "data": {
            "text/plain": [
              "        txId    class\n",
              "0  230425980  unknown\n",
              "1    5530458  unknown\n",
              "2  232022460  unknown\n",
              "3  232438397        2\n",
              "4  230460314  unknown"
            ],
            "text/html": [
              "\n",
              "  <div id=\"df-fac740e7-6893-4235-8e91-b396886bd71f\" class=\"colab-df-container\">\n",
              "    <div>\n",
              "<style scoped>\n",
              "    .dataframe tbody tr th:only-of-type {\n",
              "        vertical-align: middle;\n",
              "    }\n",
              "\n",
              "    .dataframe tbody tr th {\n",
              "        vertical-align: top;\n",
              "    }\n",
              "\n",
              "    .dataframe thead th {\n",
              "        text-align: right;\n",
              "    }\n",
              "</style>\n",
              "<table border=\"1\" class=\"dataframe\">\n",
              "  <thead>\n",
              "    <tr style=\"text-align: right;\">\n",
              "      <th></th>\n",
              "      <th>txId</th>\n",
              "      <th>class</th>\n",
              "    </tr>\n",
              "  </thead>\n",
              "  <tbody>\n",
              "    <tr>\n",
              "      <th>0</th>\n",
              "      <td>230425980</td>\n",
              "      <td>unknown</td>\n",
              "    </tr>\n",
              "    <tr>\n",
              "      <th>1</th>\n",
              "      <td>5530458</td>\n",
              "      <td>unknown</td>\n",
              "    </tr>\n",
              "    <tr>\n",
              "      <th>2</th>\n",
              "      <td>232022460</td>\n",
              "      <td>unknown</td>\n",
              "    </tr>\n",
              "    <tr>\n",
              "      <th>3</th>\n",
              "      <td>232438397</td>\n",
              "      <td>2</td>\n",
              "    </tr>\n",
              "    <tr>\n",
              "      <th>4</th>\n",
              "      <td>230460314</td>\n",
              "      <td>unknown</td>\n",
              "    </tr>\n",
              "  </tbody>\n",
              "</table>\n",
              "</div>\n",
              "    <div class=\"colab-df-buttons\">\n",
              "\n",
              "  <div class=\"colab-df-container\">\n",
              "    <button class=\"colab-df-convert\" onclick=\"convertToInteractive('df-fac740e7-6893-4235-8e91-b396886bd71f')\"\n",
              "            title=\"Convert this dataframe to an interactive table.\"\n",
              "            style=\"display:none;\">\n",
              "\n",
              "  <svg xmlns=\"http://www.w3.org/2000/svg\" height=\"24px\" viewBox=\"0 -960 960 960\">\n",
              "    <path d=\"M120-120v-720h720v720H120Zm60-500h600v-160H180v160Zm220 220h160v-160H400v160Zm0 220h160v-160H400v160ZM180-400h160v-160H180v160Zm440 0h160v-160H620v160ZM180-180h160v-160H180v160Zm440 0h160v-160H620v160Z\"/>\n",
              "  </svg>\n",
              "    </button>\n",
              "\n",
              "  <style>\n",
              "    .colab-df-container {\n",
              "      display:flex;\n",
              "      gap: 12px;\n",
              "    }\n",
              "\n",
              "    .colab-df-convert {\n",
              "      background-color: #E8F0FE;\n",
              "      border: none;\n",
              "      border-radius: 50%;\n",
              "      cursor: pointer;\n",
              "      display: none;\n",
              "      fill: #1967D2;\n",
              "      height: 32px;\n",
              "      padding: 0 0 0 0;\n",
              "      width: 32px;\n",
              "    }\n",
              "\n",
              "    .colab-df-convert:hover {\n",
              "      background-color: #E2EBFA;\n",
              "      box-shadow: 0px 1px 2px rgba(60, 64, 67, 0.3), 0px 1px 3px 1px rgba(60, 64, 67, 0.15);\n",
              "      fill: #174EA6;\n",
              "    }\n",
              "\n",
              "    .colab-df-buttons div {\n",
              "      margin-bottom: 4px;\n",
              "    }\n",
              "\n",
              "    [theme=dark] .colab-df-convert {\n",
              "      background-color: #3B4455;\n",
              "      fill: #D2E3FC;\n",
              "    }\n",
              "\n",
              "    [theme=dark] .colab-df-convert:hover {\n",
              "      background-color: #434B5C;\n",
              "      box-shadow: 0px 1px 3px 1px rgba(0, 0, 0, 0.15);\n",
              "      filter: drop-shadow(0px 1px 2px rgba(0, 0, 0, 0.3));\n",
              "      fill: #FFFFFF;\n",
              "    }\n",
              "  </style>\n",
              "\n",
              "    <script>\n",
              "      const buttonEl =\n",
              "        document.querySelector('#df-fac740e7-6893-4235-8e91-b396886bd71f button.colab-df-convert');\n",
              "      buttonEl.style.display =\n",
              "        google.colab.kernel.accessAllowed ? 'block' : 'none';\n",
              "\n",
              "      async function convertToInteractive(key) {\n",
              "        const element = document.querySelector('#df-fac740e7-6893-4235-8e91-b396886bd71f');\n",
              "        const dataTable =\n",
              "          await google.colab.kernel.invokeFunction('convertToInteractive',\n",
              "                                                    [key], {});\n",
              "        if (!dataTable) return;\n",
              "\n",
              "        const docLinkHtml = 'Like what you see? Visit the ' +\n",
              "          '<a target=\"_blank\" href=https://colab.research.google.com/notebooks/data_table.ipynb>data table notebook</a>'\n",
              "          + ' to learn more about interactive tables.';\n",
              "        element.innerHTML = '';\n",
              "        dataTable['output_type'] = 'display_data';\n",
              "        await google.colab.output.renderOutput(dataTable, element);\n",
              "        const docLink = document.createElement('div');\n",
              "        docLink.innerHTML = docLinkHtml;\n",
              "        element.appendChild(docLink);\n",
              "      }\n",
              "    </script>\n",
              "  </div>\n",
              "\n",
              "\n",
              "    <div id=\"df-b1c96d3e-4a6c-4e62-a344-63c7cc118550\">\n",
              "      <button class=\"colab-df-quickchart\" onclick=\"quickchart('df-b1c96d3e-4a6c-4e62-a344-63c7cc118550')\"\n",
              "                title=\"Suggest charts\"\n",
              "                style=\"display:none;\">\n",
              "\n",
              "<svg xmlns=\"http://www.w3.org/2000/svg\" height=\"24px\"viewBox=\"0 0 24 24\"\n",
              "     width=\"24px\">\n",
              "    <g>\n",
              "        <path d=\"M19 3H5c-1.1 0-2 .9-2 2v14c0 1.1.9 2 2 2h14c1.1 0 2-.9 2-2V5c0-1.1-.9-2-2-2zM9 17H7v-7h2v7zm4 0h-2V7h2v10zm4 0h-2v-4h2v4z\"/>\n",
              "    </g>\n",
              "</svg>\n",
              "      </button>\n",
              "\n",
              "<style>\n",
              "  .colab-df-quickchart {\n",
              "      --bg-color: #E8F0FE;\n",
              "      --fill-color: #1967D2;\n",
              "      --hover-bg-color: #E2EBFA;\n",
              "      --hover-fill-color: #174EA6;\n",
              "      --disabled-fill-color: #AAA;\n",
              "      --disabled-bg-color: #DDD;\n",
              "  }\n",
              "\n",
              "  [theme=dark] .colab-df-quickchart {\n",
              "      --bg-color: #3B4455;\n",
              "      --fill-color: #D2E3FC;\n",
              "      --hover-bg-color: #434B5C;\n",
              "      --hover-fill-color: #FFFFFF;\n",
              "      --disabled-bg-color: #3B4455;\n",
              "      --disabled-fill-color: #666;\n",
              "  }\n",
              "\n",
              "  .colab-df-quickchart {\n",
              "    background-color: var(--bg-color);\n",
              "    border: none;\n",
              "    border-radius: 50%;\n",
              "    cursor: pointer;\n",
              "    display: none;\n",
              "    fill: var(--fill-color);\n",
              "    height: 32px;\n",
              "    padding: 0;\n",
              "    width: 32px;\n",
              "  }\n",
              "\n",
              "  .colab-df-quickchart:hover {\n",
              "    background-color: var(--hover-bg-color);\n",
              "    box-shadow: 0 1px 2px rgba(60, 64, 67, 0.3), 0 1px 3px 1px rgba(60, 64, 67, 0.15);\n",
              "    fill: var(--button-hover-fill-color);\n",
              "  }\n",
              "\n",
              "  .colab-df-quickchart-complete:disabled,\n",
              "  .colab-df-quickchart-complete:disabled:hover {\n",
              "    background-color: var(--disabled-bg-color);\n",
              "    fill: var(--disabled-fill-color);\n",
              "    box-shadow: none;\n",
              "  }\n",
              "\n",
              "  .colab-df-spinner {\n",
              "    border: 2px solid var(--fill-color);\n",
              "    border-color: transparent;\n",
              "    border-bottom-color: var(--fill-color);\n",
              "    animation:\n",
              "      spin 1s steps(1) infinite;\n",
              "  }\n",
              "\n",
              "  @keyframes spin {\n",
              "    0% {\n",
              "      border-color: transparent;\n",
              "      border-bottom-color: var(--fill-color);\n",
              "      border-left-color: var(--fill-color);\n",
              "    }\n",
              "    20% {\n",
              "      border-color: transparent;\n",
              "      border-left-color: var(--fill-color);\n",
              "      border-top-color: var(--fill-color);\n",
              "    }\n",
              "    30% {\n",
              "      border-color: transparent;\n",
              "      border-left-color: var(--fill-color);\n",
              "      border-top-color: var(--fill-color);\n",
              "      border-right-color: var(--fill-color);\n",
              "    }\n",
              "    40% {\n",
              "      border-color: transparent;\n",
              "      border-right-color: var(--fill-color);\n",
              "      border-top-color: var(--fill-color);\n",
              "    }\n",
              "    60% {\n",
              "      border-color: transparent;\n",
              "      border-right-color: var(--fill-color);\n",
              "    }\n",
              "    80% {\n",
              "      border-color: transparent;\n",
              "      border-right-color: var(--fill-color);\n",
              "      border-bottom-color: var(--fill-color);\n",
              "    }\n",
              "    90% {\n",
              "      border-color: transparent;\n",
              "      border-bottom-color: var(--fill-color);\n",
              "    }\n",
              "  }\n",
              "</style>\n",
              "\n",
              "      <script>\n",
              "        async function quickchart(key) {\n",
              "          const quickchartButtonEl =\n",
              "            document.querySelector('#' + key + ' button');\n",
              "          quickchartButtonEl.disabled = true;  // To prevent multiple clicks.\n",
              "          quickchartButtonEl.classList.add('colab-df-spinner');\n",
              "          try {\n",
              "            const charts = await google.colab.kernel.invokeFunction(\n",
              "                'suggestCharts', [key], {});\n",
              "          } catch (error) {\n",
              "            console.error('Error during call to suggestCharts:', error);\n",
              "          }\n",
              "          quickchartButtonEl.classList.remove('colab-df-spinner');\n",
              "          quickchartButtonEl.classList.add('colab-df-quickchart-complete');\n",
              "        }\n",
              "        (() => {\n",
              "          let quickchartButtonEl =\n",
              "            document.querySelector('#df-b1c96d3e-4a6c-4e62-a344-63c7cc118550 button');\n",
              "          quickchartButtonEl.style.display =\n",
              "            google.colab.kernel.accessAllowed ? 'block' : 'none';\n",
              "        })();\n",
              "      </script>\n",
              "    </div>\n",
              "\n",
              "    </div>\n",
              "  </div>\n"
            ],
            "application/vnd.google.colaboratory.intrinsic+json": {
              "type": "dataframe",
              "variable_name": "classes"
            }
          },
          "metadata": {},
          "execution_count": 7
        }
      ],
      "source": [
        "classes.head()"
      ]
    },
    {
      "cell_type": "markdown",
      "metadata": {
        "id": "8owpAv38bzIk"
      },
      "source": [
        "Map the illicit, licit, unknown transactions to 1, 2 and 0 respectively"
      ]
    },
    {
      "cell_type": "code",
      "execution_count": 8,
      "metadata": {
        "id": "PcfjkllkdZww"
      },
      "outputs": [],
      "source": [
        "# classes['class'] = classes['class'].replace({'unknown': 0, '1': 1, '2': 2})\n",
        "classes['class'] = classes['class'].replace({'1': 'illicit', '2': 'licit'})\n",
        "\n",
        "percentage_distribution = round(100 * classes['class'].value_counts(normalize=True), 2)\n",
        "class_counts = classes['class'].value_counts()"
      ]
    },
    {
      "cell_type": "code",
      "execution_count": 9,
      "metadata": {
        "colab": {
          "base_uri": "https://localhost:8080/",
          "height": 424
        },
        "id": "4w05QcFYmiW1",
        "outputId": "7069cd9b-7606-4b8b-af3a-c46dbc85876d"
      },
      "outputs": [
        {
          "output_type": "execute_result",
          "data": {
            "text/plain": [
              "             txId    class\n",
              "0       230425980  unknown\n",
              "1         5530458  unknown\n",
              "2       232022460  unknown\n",
              "3       232438397    licit\n",
              "4       230460314  unknown\n",
              "...           ...      ...\n",
              "203764  173077460  unknown\n",
              "203765  158577750  unknown\n",
              "203766  158375402  illicit\n",
              "203767  158654197  unknown\n",
              "203768  157597225  unknown\n",
              "\n",
              "[203769 rows x 2 columns]"
            ],
            "text/html": [
              "\n",
              "  <div id=\"df-c77ec809-35e0-4458-82b8-7717bc7a80d8\" class=\"colab-df-container\">\n",
              "    <div>\n",
              "<style scoped>\n",
              "    .dataframe tbody tr th:only-of-type {\n",
              "        vertical-align: middle;\n",
              "    }\n",
              "\n",
              "    .dataframe tbody tr th {\n",
              "        vertical-align: top;\n",
              "    }\n",
              "\n",
              "    .dataframe thead th {\n",
              "        text-align: right;\n",
              "    }\n",
              "</style>\n",
              "<table border=\"1\" class=\"dataframe\">\n",
              "  <thead>\n",
              "    <tr style=\"text-align: right;\">\n",
              "      <th></th>\n",
              "      <th>txId</th>\n",
              "      <th>class</th>\n",
              "    </tr>\n",
              "  </thead>\n",
              "  <tbody>\n",
              "    <tr>\n",
              "      <th>0</th>\n",
              "      <td>230425980</td>\n",
              "      <td>unknown</td>\n",
              "    </tr>\n",
              "    <tr>\n",
              "      <th>1</th>\n",
              "      <td>5530458</td>\n",
              "      <td>unknown</td>\n",
              "    </tr>\n",
              "    <tr>\n",
              "      <th>2</th>\n",
              "      <td>232022460</td>\n",
              "      <td>unknown</td>\n",
              "    </tr>\n",
              "    <tr>\n",
              "      <th>3</th>\n",
              "      <td>232438397</td>\n",
              "      <td>licit</td>\n",
              "    </tr>\n",
              "    <tr>\n",
              "      <th>4</th>\n",
              "      <td>230460314</td>\n",
              "      <td>unknown</td>\n",
              "    </tr>\n",
              "    <tr>\n",
              "      <th>...</th>\n",
              "      <td>...</td>\n",
              "      <td>...</td>\n",
              "    </tr>\n",
              "    <tr>\n",
              "      <th>203764</th>\n",
              "      <td>173077460</td>\n",
              "      <td>unknown</td>\n",
              "    </tr>\n",
              "    <tr>\n",
              "      <th>203765</th>\n",
              "      <td>158577750</td>\n",
              "      <td>unknown</td>\n",
              "    </tr>\n",
              "    <tr>\n",
              "      <th>203766</th>\n",
              "      <td>158375402</td>\n",
              "      <td>illicit</td>\n",
              "    </tr>\n",
              "    <tr>\n",
              "      <th>203767</th>\n",
              "      <td>158654197</td>\n",
              "      <td>unknown</td>\n",
              "    </tr>\n",
              "    <tr>\n",
              "      <th>203768</th>\n",
              "      <td>157597225</td>\n",
              "      <td>unknown</td>\n",
              "    </tr>\n",
              "  </tbody>\n",
              "</table>\n",
              "<p>203769 rows × 2 columns</p>\n",
              "</div>\n",
              "    <div class=\"colab-df-buttons\">\n",
              "\n",
              "  <div class=\"colab-df-container\">\n",
              "    <button class=\"colab-df-convert\" onclick=\"convertToInteractive('df-c77ec809-35e0-4458-82b8-7717bc7a80d8')\"\n",
              "            title=\"Convert this dataframe to an interactive table.\"\n",
              "            style=\"display:none;\">\n",
              "\n",
              "  <svg xmlns=\"http://www.w3.org/2000/svg\" height=\"24px\" viewBox=\"0 -960 960 960\">\n",
              "    <path d=\"M120-120v-720h720v720H120Zm60-500h600v-160H180v160Zm220 220h160v-160H400v160Zm0 220h160v-160H400v160ZM180-400h160v-160H180v160Zm440 0h160v-160H620v160ZM180-180h160v-160H180v160Zm440 0h160v-160H620v160Z\"/>\n",
              "  </svg>\n",
              "    </button>\n",
              "\n",
              "  <style>\n",
              "    .colab-df-container {\n",
              "      display:flex;\n",
              "      gap: 12px;\n",
              "    }\n",
              "\n",
              "    .colab-df-convert {\n",
              "      background-color: #E8F0FE;\n",
              "      border: none;\n",
              "      border-radius: 50%;\n",
              "      cursor: pointer;\n",
              "      display: none;\n",
              "      fill: #1967D2;\n",
              "      height: 32px;\n",
              "      padding: 0 0 0 0;\n",
              "      width: 32px;\n",
              "    }\n",
              "\n",
              "    .colab-df-convert:hover {\n",
              "      background-color: #E2EBFA;\n",
              "      box-shadow: 0px 1px 2px rgba(60, 64, 67, 0.3), 0px 1px 3px 1px rgba(60, 64, 67, 0.15);\n",
              "      fill: #174EA6;\n",
              "    }\n",
              "\n",
              "    .colab-df-buttons div {\n",
              "      margin-bottom: 4px;\n",
              "    }\n",
              "\n",
              "    [theme=dark] .colab-df-convert {\n",
              "      background-color: #3B4455;\n",
              "      fill: #D2E3FC;\n",
              "    }\n",
              "\n",
              "    [theme=dark] .colab-df-convert:hover {\n",
              "      background-color: #434B5C;\n",
              "      box-shadow: 0px 1px 3px 1px rgba(0, 0, 0, 0.15);\n",
              "      filter: drop-shadow(0px 1px 2px rgba(0, 0, 0, 0.3));\n",
              "      fill: #FFFFFF;\n",
              "    }\n",
              "  </style>\n",
              "\n",
              "    <script>\n",
              "      const buttonEl =\n",
              "        document.querySelector('#df-c77ec809-35e0-4458-82b8-7717bc7a80d8 button.colab-df-convert');\n",
              "      buttonEl.style.display =\n",
              "        google.colab.kernel.accessAllowed ? 'block' : 'none';\n",
              "\n",
              "      async function convertToInteractive(key) {\n",
              "        const element = document.querySelector('#df-c77ec809-35e0-4458-82b8-7717bc7a80d8');\n",
              "        const dataTable =\n",
              "          await google.colab.kernel.invokeFunction('convertToInteractive',\n",
              "                                                    [key], {});\n",
              "        if (!dataTable) return;\n",
              "\n",
              "        const docLinkHtml = 'Like what you see? Visit the ' +\n",
              "          '<a target=\"_blank\" href=https://colab.research.google.com/notebooks/data_table.ipynb>data table notebook</a>'\n",
              "          + ' to learn more about interactive tables.';\n",
              "        element.innerHTML = '';\n",
              "        dataTable['output_type'] = 'display_data';\n",
              "        await google.colab.output.renderOutput(dataTable, element);\n",
              "        const docLink = document.createElement('div');\n",
              "        docLink.innerHTML = docLinkHtml;\n",
              "        element.appendChild(docLink);\n",
              "      }\n",
              "    </script>\n",
              "  </div>\n",
              "\n",
              "\n",
              "    <div id=\"df-f66c83e0-ba90-488d-b99f-e1ff9da35a25\">\n",
              "      <button class=\"colab-df-quickchart\" onclick=\"quickchart('df-f66c83e0-ba90-488d-b99f-e1ff9da35a25')\"\n",
              "                title=\"Suggest charts\"\n",
              "                style=\"display:none;\">\n",
              "\n",
              "<svg xmlns=\"http://www.w3.org/2000/svg\" height=\"24px\"viewBox=\"0 0 24 24\"\n",
              "     width=\"24px\">\n",
              "    <g>\n",
              "        <path d=\"M19 3H5c-1.1 0-2 .9-2 2v14c0 1.1.9 2 2 2h14c1.1 0 2-.9 2-2V5c0-1.1-.9-2-2-2zM9 17H7v-7h2v7zm4 0h-2V7h2v10zm4 0h-2v-4h2v4z\"/>\n",
              "    </g>\n",
              "</svg>\n",
              "      </button>\n",
              "\n",
              "<style>\n",
              "  .colab-df-quickchart {\n",
              "      --bg-color: #E8F0FE;\n",
              "      --fill-color: #1967D2;\n",
              "      --hover-bg-color: #E2EBFA;\n",
              "      --hover-fill-color: #174EA6;\n",
              "      --disabled-fill-color: #AAA;\n",
              "      --disabled-bg-color: #DDD;\n",
              "  }\n",
              "\n",
              "  [theme=dark] .colab-df-quickchart {\n",
              "      --bg-color: #3B4455;\n",
              "      --fill-color: #D2E3FC;\n",
              "      --hover-bg-color: #434B5C;\n",
              "      --hover-fill-color: #FFFFFF;\n",
              "      --disabled-bg-color: #3B4455;\n",
              "      --disabled-fill-color: #666;\n",
              "  }\n",
              "\n",
              "  .colab-df-quickchart {\n",
              "    background-color: var(--bg-color);\n",
              "    border: none;\n",
              "    border-radius: 50%;\n",
              "    cursor: pointer;\n",
              "    display: none;\n",
              "    fill: var(--fill-color);\n",
              "    height: 32px;\n",
              "    padding: 0;\n",
              "    width: 32px;\n",
              "  }\n",
              "\n",
              "  .colab-df-quickchart:hover {\n",
              "    background-color: var(--hover-bg-color);\n",
              "    box-shadow: 0 1px 2px rgba(60, 64, 67, 0.3), 0 1px 3px 1px rgba(60, 64, 67, 0.15);\n",
              "    fill: var(--button-hover-fill-color);\n",
              "  }\n",
              "\n",
              "  .colab-df-quickchart-complete:disabled,\n",
              "  .colab-df-quickchart-complete:disabled:hover {\n",
              "    background-color: var(--disabled-bg-color);\n",
              "    fill: var(--disabled-fill-color);\n",
              "    box-shadow: none;\n",
              "  }\n",
              "\n",
              "  .colab-df-spinner {\n",
              "    border: 2px solid var(--fill-color);\n",
              "    border-color: transparent;\n",
              "    border-bottom-color: var(--fill-color);\n",
              "    animation:\n",
              "      spin 1s steps(1) infinite;\n",
              "  }\n",
              "\n",
              "  @keyframes spin {\n",
              "    0% {\n",
              "      border-color: transparent;\n",
              "      border-bottom-color: var(--fill-color);\n",
              "      border-left-color: var(--fill-color);\n",
              "    }\n",
              "    20% {\n",
              "      border-color: transparent;\n",
              "      border-left-color: var(--fill-color);\n",
              "      border-top-color: var(--fill-color);\n",
              "    }\n",
              "    30% {\n",
              "      border-color: transparent;\n",
              "      border-left-color: var(--fill-color);\n",
              "      border-top-color: var(--fill-color);\n",
              "      border-right-color: var(--fill-color);\n",
              "    }\n",
              "    40% {\n",
              "      border-color: transparent;\n",
              "      border-right-color: var(--fill-color);\n",
              "      border-top-color: var(--fill-color);\n",
              "    }\n",
              "    60% {\n",
              "      border-color: transparent;\n",
              "      border-right-color: var(--fill-color);\n",
              "    }\n",
              "    80% {\n",
              "      border-color: transparent;\n",
              "      border-right-color: var(--fill-color);\n",
              "      border-bottom-color: var(--fill-color);\n",
              "    }\n",
              "    90% {\n",
              "      border-color: transparent;\n",
              "      border-bottom-color: var(--fill-color);\n",
              "    }\n",
              "  }\n",
              "</style>\n",
              "\n",
              "      <script>\n",
              "        async function quickchart(key) {\n",
              "          const quickchartButtonEl =\n",
              "            document.querySelector('#' + key + ' button');\n",
              "          quickchartButtonEl.disabled = true;  // To prevent multiple clicks.\n",
              "          quickchartButtonEl.classList.add('colab-df-spinner');\n",
              "          try {\n",
              "            const charts = await google.colab.kernel.invokeFunction(\n",
              "                'suggestCharts', [key], {});\n",
              "          } catch (error) {\n",
              "            console.error('Error during call to suggestCharts:', error);\n",
              "          }\n",
              "          quickchartButtonEl.classList.remove('colab-df-spinner');\n",
              "          quickchartButtonEl.classList.add('colab-df-quickchart-complete');\n",
              "        }\n",
              "        (() => {\n",
              "          let quickchartButtonEl =\n",
              "            document.querySelector('#df-f66c83e0-ba90-488d-b99f-e1ff9da35a25 button');\n",
              "          quickchartButtonEl.style.display =\n",
              "            google.colab.kernel.accessAllowed ? 'block' : 'none';\n",
              "        })();\n",
              "      </script>\n",
              "    </div>\n",
              "\n",
              "  <div id=\"id_2468e2ef-e57e-4669-a140-a25a7c0b44ff\">\n",
              "    <style>\n",
              "      .colab-df-generate {\n",
              "        background-color: #E8F0FE;\n",
              "        border: none;\n",
              "        border-radius: 50%;\n",
              "        cursor: pointer;\n",
              "        display: none;\n",
              "        fill: #1967D2;\n",
              "        height: 32px;\n",
              "        padding: 0 0 0 0;\n",
              "        width: 32px;\n",
              "      }\n",
              "\n",
              "      .colab-df-generate:hover {\n",
              "        background-color: #E2EBFA;\n",
              "        box-shadow: 0px 1px 2px rgba(60, 64, 67, 0.3), 0px 1px 3px 1px rgba(60, 64, 67, 0.15);\n",
              "        fill: #174EA6;\n",
              "      }\n",
              "\n",
              "      [theme=dark] .colab-df-generate {\n",
              "        background-color: #3B4455;\n",
              "        fill: #D2E3FC;\n",
              "      }\n",
              "\n",
              "      [theme=dark] .colab-df-generate:hover {\n",
              "        background-color: #434B5C;\n",
              "        box-shadow: 0px 1px 3px 1px rgba(0, 0, 0, 0.15);\n",
              "        filter: drop-shadow(0px 1px 2px rgba(0, 0, 0, 0.3));\n",
              "        fill: #FFFFFF;\n",
              "      }\n",
              "    </style>\n",
              "    <button class=\"colab-df-generate\" onclick=\"generateWithVariable('classes')\"\n",
              "            title=\"Generate code using this dataframe.\"\n",
              "            style=\"display:none;\">\n",
              "\n",
              "  <svg xmlns=\"http://www.w3.org/2000/svg\" height=\"24px\"viewBox=\"0 0 24 24\"\n",
              "       width=\"24px\">\n",
              "    <path d=\"M7,19H8.4L18.45,9,17,7.55,7,17.6ZM5,21V16.75L18.45,3.32a2,2,0,0,1,2.83,0l1.4,1.43a1.91,1.91,0,0,1,.58,1.4,1.91,1.91,0,0,1-.58,1.4L9.25,21ZM18.45,9,17,7.55Zm-12,3A5.31,5.31,0,0,0,4.9,8.1,5.31,5.31,0,0,0,1,6.5,5.31,5.31,0,0,0,4.9,4.9,5.31,5.31,0,0,0,6.5,1,5.31,5.31,0,0,0,8.1,4.9,5.31,5.31,0,0,0,12,6.5,5.46,5.46,0,0,0,6.5,12Z\"/>\n",
              "  </svg>\n",
              "    </button>\n",
              "    <script>\n",
              "      (() => {\n",
              "      const buttonEl =\n",
              "        document.querySelector('#id_2468e2ef-e57e-4669-a140-a25a7c0b44ff button.colab-df-generate');\n",
              "      buttonEl.style.display =\n",
              "        google.colab.kernel.accessAllowed ? 'block' : 'none';\n",
              "\n",
              "      buttonEl.onclick = () => {\n",
              "        google.colab.notebook.generateWithVariable('classes');\n",
              "      }\n",
              "      })();\n",
              "    </script>\n",
              "  </div>\n",
              "\n",
              "    </div>\n",
              "  </div>\n"
            ],
            "application/vnd.google.colaboratory.intrinsic+json": {
              "type": "dataframe",
              "variable_name": "classes"
            }
          },
          "metadata": {},
          "execution_count": 9
        }
      ],
      "source": [
        "classes"
      ]
    },
    {
      "cell_type": "code",
      "execution_count": 10,
      "metadata": {
        "id": "dGMVfZ5Zd785"
      },
      "outputs": [],
      "source": [
        "classes_df = classes[['txId', 'class']].copy()\n",
        "classes_df['Percentage'] = classes_df['class'].map(percentage_distribution)\n",
        "classes_df['Counts'] = classes_df['class'].map(class_counts)"
      ]
    },
    {
      "cell_type": "code",
      "execution_count": 11,
      "metadata": {
        "colab": {
          "base_uri": "https://localhost:8080/",
          "height": 424
        },
        "id": "fbzHTO0XeAvW",
        "outputId": "f14095a8-7377-46b1-d7ec-2c6a8a0bd315"
      },
      "outputs": [
        {
          "output_type": "execute_result",
          "data": {
            "text/plain": [
              "             txId    class  Percentage  Counts\n",
              "0       230425980  unknown       77.15  157205\n",
              "1         5530458  unknown       77.15  157205\n",
              "2       232022460  unknown       77.15  157205\n",
              "3       232438397    licit       20.62   42019\n",
              "4       230460314  unknown       77.15  157205\n",
              "...           ...      ...         ...     ...\n",
              "203764  173077460  unknown       77.15  157205\n",
              "203765  158577750  unknown       77.15  157205\n",
              "203766  158375402  illicit        2.23    4545\n",
              "203767  158654197  unknown       77.15  157205\n",
              "203768  157597225  unknown       77.15  157205\n",
              "\n",
              "[203769 rows x 4 columns]"
            ],
            "text/html": [
              "\n",
              "  <div id=\"df-8853ee3f-d62e-4598-8a9f-927ae9f436f6\" class=\"colab-df-container\">\n",
              "    <div>\n",
              "<style scoped>\n",
              "    .dataframe tbody tr th:only-of-type {\n",
              "        vertical-align: middle;\n",
              "    }\n",
              "\n",
              "    .dataframe tbody tr th {\n",
              "        vertical-align: top;\n",
              "    }\n",
              "\n",
              "    .dataframe thead th {\n",
              "        text-align: right;\n",
              "    }\n",
              "</style>\n",
              "<table border=\"1\" class=\"dataframe\">\n",
              "  <thead>\n",
              "    <tr style=\"text-align: right;\">\n",
              "      <th></th>\n",
              "      <th>txId</th>\n",
              "      <th>class</th>\n",
              "      <th>Percentage</th>\n",
              "      <th>Counts</th>\n",
              "    </tr>\n",
              "  </thead>\n",
              "  <tbody>\n",
              "    <tr>\n",
              "      <th>0</th>\n",
              "      <td>230425980</td>\n",
              "      <td>unknown</td>\n",
              "      <td>77.15</td>\n",
              "      <td>157205</td>\n",
              "    </tr>\n",
              "    <tr>\n",
              "      <th>1</th>\n",
              "      <td>5530458</td>\n",
              "      <td>unknown</td>\n",
              "      <td>77.15</td>\n",
              "      <td>157205</td>\n",
              "    </tr>\n",
              "    <tr>\n",
              "      <th>2</th>\n",
              "      <td>232022460</td>\n",
              "      <td>unknown</td>\n",
              "      <td>77.15</td>\n",
              "      <td>157205</td>\n",
              "    </tr>\n",
              "    <tr>\n",
              "      <th>3</th>\n",
              "      <td>232438397</td>\n",
              "      <td>licit</td>\n",
              "      <td>20.62</td>\n",
              "      <td>42019</td>\n",
              "    </tr>\n",
              "    <tr>\n",
              "      <th>4</th>\n",
              "      <td>230460314</td>\n",
              "      <td>unknown</td>\n",
              "      <td>77.15</td>\n",
              "      <td>157205</td>\n",
              "    </tr>\n",
              "    <tr>\n",
              "      <th>...</th>\n",
              "      <td>...</td>\n",
              "      <td>...</td>\n",
              "      <td>...</td>\n",
              "      <td>...</td>\n",
              "    </tr>\n",
              "    <tr>\n",
              "      <th>203764</th>\n",
              "      <td>173077460</td>\n",
              "      <td>unknown</td>\n",
              "      <td>77.15</td>\n",
              "      <td>157205</td>\n",
              "    </tr>\n",
              "    <tr>\n",
              "      <th>203765</th>\n",
              "      <td>158577750</td>\n",
              "      <td>unknown</td>\n",
              "      <td>77.15</td>\n",
              "      <td>157205</td>\n",
              "    </tr>\n",
              "    <tr>\n",
              "      <th>203766</th>\n",
              "      <td>158375402</td>\n",
              "      <td>illicit</td>\n",
              "      <td>2.23</td>\n",
              "      <td>4545</td>\n",
              "    </tr>\n",
              "    <tr>\n",
              "      <th>203767</th>\n",
              "      <td>158654197</td>\n",
              "      <td>unknown</td>\n",
              "      <td>77.15</td>\n",
              "      <td>157205</td>\n",
              "    </tr>\n",
              "    <tr>\n",
              "      <th>203768</th>\n",
              "      <td>157597225</td>\n",
              "      <td>unknown</td>\n",
              "      <td>77.15</td>\n",
              "      <td>157205</td>\n",
              "    </tr>\n",
              "  </tbody>\n",
              "</table>\n",
              "<p>203769 rows × 4 columns</p>\n",
              "</div>\n",
              "    <div class=\"colab-df-buttons\">\n",
              "\n",
              "  <div class=\"colab-df-container\">\n",
              "    <button class=\"colab-df-convert\" onclick=\"convertToInteractive('df-8853ee3f-d62e-4598-8a9f-927ae9f436f6')\"\n",
              "            title=\"Convert this dataframe to an interactive table.\"\n",
              "            style=\"display:none;\">\n",
              "\n",
              "  <svg xmlns=\"http://www.w3.org/2000/svg\" height=\"24px\" viewBox=\"0 -960 960 960\">\n",
              "    <path d=\"M120-120v-720h720v720H120Zm60-500h600v-160H180v160Zm220 220h160v-160H400v160Zm0 220h160v-160H400v160ZM180-400h160v-160H180v160Zm440 0h160v-160H620v160ZM180-180h160v-160H180v160Zm440 0h160v-160H620v160Z\"/>\n",
              "  </svg>\n",
              "    </button>\n",
              "\n",
              "  <style>\n",
              "    .colab-df-container {\n",
              "      display:flex;\n",
              "      gap: 12px;\n",
              "    }\n",
              "\n",
              "    .colab-df-convert {\n",
              "      background-color: #E8F0FE;\n",
              "      border: none;\n",
              "      border-radius: 50%;\n",
              "      cursor: pointer;\n",
              "      display: none;\n",
              "      fill: #1967D2;\n",
              "      height: 32px;\n",
              "      padding: 0 0 0 0;\n",
              "      width: 32px;\n",
              "    }\n",
              "\n",
              "    .colab-df-convert:hover {\n",
              "      background-color: #E2EBFA;\n",
              "      box-shadow: 0px 1px 2px rgba(60, 64, 67, 0.3), 0px 1px 3px 1px rgba(60, 64, 67, 0.15);\n",
              "      fill: #174EA6;\n",
              "    }\n",
              "\n",
              "    .colab-df-buttons div {\n",
              "      margin-bottom: 4px;\n",
              "    }\n",
              "\n",
              "    [theme=dark] .colab-df-convert {\n",
              "      background-color: #3B4455;\n",
              "      fill: #D2E3FC;\n",
              "    }\n",
              "\n",
              "    [theme=dark] .colab-df-convert:hover {\n",
              "      background-color: #434B5C;\n",
              "      box-shadow: 0px 1px 3px 1px rgba(0, 0, 0, 0.15);\n",
              "      filter: drop-shadow(0px 1px 2px rgba(0, 0, 0, 0.3));\n",
              "      fill: #FFFFFF;\n",
              "    }\n",
              "  </style>\n",
              "\n",
              "    <script>\n",
              "      const buttonEl =\n",
              "        document.querySelector('#df-8853ee3f-d62e-4598-8a9f-927ae9f436f6 button.colab-df-convert');\n",
              "      buttonEl.style.display =\n",
              "        google.colab.kernel.accessAllowed ? 'block' : 'none';\n",
              "\n",
              "      async function convertToInteractive(key) {\n",
              "        const element = document.querySelector('#df-8853ee3f-d62e-4598-8a9f-927ae9f436f6');\n",
              "        const dataTable =\n",
              "          await google.colab.kernel.invokeFunction('convertToInteractive',\n",
              "                                                    [key], {});\n",
              "        if (!dataTable) return;\n",
              "\n",
              "        const docLinkHtml = 'Like what you see? Visit the ' +\n",
              "          '<a target=\"_blank\" href=https://colab.research.google.com/notebooks/data_table.ipynb>data table notebook</a>'\n",
              "          + ' to learn more about interactive tables.';\n",
              "        element.innerHTML = '';\n",
              "        dataTable['output_type'] = 'display_data';\n",
              "        await google.colab.output.renderOutput(dataTable, element);\n",
              "        const docLink = document.createElement('div');\n",
              "        docLink.innerHTML = docLinkHtml;\n",
              "        element.appendChild(docLink);\n",
              "      }\n",
              "    </script>\n",
              "  </div>\n",
              "\n",
              "\n",
              "    <div id=\"df-7f37d265-a662-4033-a826-5f2a52a386cb\">\n",
              "      <button class=\"colab-df-quickchart\" onclick=\"quickchart('df-7f37d265-a662-4033-a826-5f2a52a386cb')\"\n",
              "                title=\"Suggest charts\"\n",
              "                style=\"display:none;\">\n",
              "\n",
              "<svg xmlns=\"http://www.w3.org/2000/svg\" height=\"24px\"viewBox=\"0 0 24 24\"\n",
              "     width=\"24px\">\n",
              "    <g>\n",
              "        <path d=\"M19 3H5c-1.1 0-2 .9-2 2v14c0 1.1.9 2 2 2h14c1.1 0 2-.9 2-2V5c0-1.1-.9-2-2-2zM9 17H7v-7h2v7zm4 0h-2V7h2v10zm4 0h-2v-4h2v4z\"/>\n",
              "    </g>\n",
              "</svg>\n",
              "      </button>\n",
              "\n",
              "<style>\n",
              "  .colab-df-quickchart {\n",
              "      --bg-color: #E8F0FE;\n",
              "      --fill-color: #1967D2;\n",
              "      --hover-bg-color: #E2EBFA;\n",
              "      --hover-fill-color: #174EA6;\n",
              "      --disabled-fill-color: #AAA;\n",
              "      --disabled-bg-color: #DDD;\n",
              "  }\n",
              "\n",
              "  [theme=dark] .colab-df-quickchart {\n",
              "      --bg-color: #3B4455;\n",
              "      --fill-color: #D2E3FC;\n",
              "      --hover-bg-color: #434B5C;\n",
              "      --hover-fill-color: #FFFFFF;\n",
              "      --disabled-bg-color: #3B4455;\n",
              "      --disabled-fill-color: #666;\n",
              "  }\n",
              "\n",
              "  .colab-df-quickchart {\n",
              "    background-color: var(--bg-color);\n",
              "    border: none;\n",
              "    border-radius: 50%;\n",
              "    cursor: pointer;\n",
              "    display: none;\n",
              "    fill: var(--fill-color);\n",
              "    height: 32px;\n",
              "    padding: 0;\n",
              "    width: 32px;\n",
              "  }\n",
              "\n",
              "  .colab-df-quickchart:hover {\n",
              "    background-color: var(--hover-bg-color);\n",
              "    box-shadow: 0 1px 2px rgba(60, 64, 67, 0.3), 0 1px 3px 1px rgba(60, 64, 67, 0.15);\n",
              "    fill: var(--button-hover-fill-color);\n",
              "  }\n",
              "\n",
              "  .colab-df-quickchart-complete:disabled,\n",
              "  .colab-df-quickchart-complete:disabled:hover {\n",
              "    background-color: var(--disabled-bg-color);\n",
              "    fill: var(--disabled-fill-color);\n",
              "    box-shadow: none;\n",
              "  }\n",
              "\n",
              "  .colab-df-spinner {\n",
              "    border: 2px solid var(--fill-color);\n",
              "    border-color: transparent;\n",
              "    border-bottom-color: var(--fill-color);\n",
              "    animation:\n",
              "      spin 1s steps(1) infinite;\n",
              "  }\n",
              "\n",
              "  @keyframes spin {\n",
              "    0% {\n",
              "      border-color: transparent;\n",
              "      border-bottom-color: var(--fill-color);\n",
              "      border-left-color: var(--fill-color);\n",
              "    }\n",
              "    20% {\n",
              "      border-color: transparent;\n",
              "      border-left-color: var(--fill-color);\n",
              "      border-top-color: var(--fill-color);\n",
              "    }\n",
              "    30% {\n",
              "      border-color: transparent;\n",
              "      border-left-color: var(--fill-color);\n",
              "      border-top-color: var(--fill-color);\n",
              "      border-right-color: var(--fill-color);\n",
              "    }\n",
              "    40% {\n",
              "      border-color: transparent;\n",
              "      border-right-color: var(--fill-color);\n",
              "      border-top-color: var(--fill-color);\n",
              "    }\n",
              "    60% {\n",
              "      border-color: transparent;\n",
              "      border-right-color: var(--fill-color);\n",
              "    }\n",
              "    80% {\n",
              "      border-color: transparent;\n",
              "      border-right-color: var(--fill-color);\n",
              "      border-bottom-color: var(--fill-color);\n",
              "    }\n",
              "    90% {\n",
              "      border-color: transparent;\n",
              "      border-bottom-color: var(--fill-color);\n",
              "    }\n",
              "  }\n",
              "</style>\n",
              "\n",
              "      <script>\n",
              "        async function quickchart(key) {\n",
              "          const quickchartButtonEl =\n",
              "            document.querySelector('#' + key + ' button');\n",
              "          quickchartButtonEl.disabled = true;  // To prevent multiple clicks.\n",
              "          quickchartButtonEl.classList.add('colab-df-spinner');\n",
              "          try {\n",
              "            const charts = await google.colab.kernel.invokeFunction(\n",
              "                'suggestCharts', [key], {});\n",
              "          } catch (error) {\n",
              "            console.error('Error during call to suggestCharts:', error);\n",
              "          }\n",
              "          quickchartButtonEl.classList.remove('colab-df-spinner');\n",
              "          quickchartButtonEl.classList.add('colab-df-quickchart-complete');\n",
              "        }\n",
              "        (() => {\n",
              "          let quickchartButtonEl =\n",
              "            document.querySelector('#df-7f37d265-a662-4033-a826-5f2a52a386cb button');\n",
              "          quickchartButtonEl.style.display =\n",
              "            google.colab.kernel.accessAllowed ? 'block' : 'none';\n",
              "        })();\n",
              "      </script>\n",
              "    </div>\n",
              "\n",
              "  <div id=\"id_2005ff62-5872-4ce0-bf69-0d12ae7055de\">\n",
              "    <style>\n",
              "      .colab-df-generate {\n",
              "        background-color: #E8F0FE;\n",
              "        border: none;\n",
              "        border-radius: 50%;\n",
              "        cursor: pointer;\n",
              "        display: none;\n",
              "        fill: #1967D2;\n",
              "        height: 32px;\n",
              "        padding: 0 0 0 0;\n",
              "        width: 32px;\n",
              "      }\n",
              "\n",
              "      .colab-df-generate:hover {\n",
              "        background-color: #E2EBFA;\n",
              "        box-shadow: 0px 1px 2px rgba(60, 64, 67, 0.3), 0px 1px 3px 1px rgba(60, 64, 67, 0.15);\n",
              "        fill: #174EA6;\n",
              "      }\n",
              "\n",
              "      [theme=dark] .colab-df-generate {\n",
              "        background-color: #3B4455;\n",
              "        fill: #D2E3FC;\n",
              "      }\n",
              "\n",
              "      [theme=dark] .colab-df-generate:hover {\n",
              "        background-color: #434B5C;\n",
              "        box-shadow: 0px 1px 3px 1px rgba(0, 0, 0, 0.15);\n",
              "        filter: drop-shadow(0px 1px 2px rgba(0, 0, 0, 0.3));\n",
              "        fill: #FFFFFF;\n",
              "      }\n",
              "    </style>\n",
              "    <button class=\"colab-df-generate\" onclick=\"generateWithVariable('classes_df')\"\n",
              "            title=\"Generate code using this dataframe.\"\n",
              "            style=\"display:none;\">\n",
              "\n",
              "  <svg xmlns=\"http://www.w3.org/2000/svg\" height=\"24px\"viewBox=\"0 0 24 24\"\n",
              "       width=\"24px\">\n",
              "    <path d=\"M7,19H8.4L18.45,9,17,7.55,7,17.6ZM5,21V16.75L18.45,3.32a2,2,0,0,1,2.83,0l1.4,1.43a1.91,1.91,0,0,1,.58,1.4,1.91,1.91,0,0,1-.58,1.4L9.25,21ZM18.45,9,17,7.55Zm-12,3A5.31,5.31,0,0,0,4.9,8.1,5.31,5.31,0,0,0,1,6.5,5.31,5.31,0,0,0,4.9,4.9,5.31,5.31,0,0,0,6.5,1,5.31,5.31,0,0,0,8.1,4.9,5.31,5.31,0,0,0,12,6.5,5.46,5.46,0,0,0,6.5,12Z\"/>\n",
              "  </svg>\n",
              "    </button>\n",
              "    <script>\n",
              "      (() => {\n",
              "      const buttonEl =\n",
              "        document.querySelector('#id_2005ff62-5872-4ce0-bf69-0d12ae7055de button.colab-df-generate');\n",
              "      buttonEl.style.display =\n",
              "        google.colab.kernel.accessAllowed ? 'block' : 'none';\n",
              "\n",
              "      buttonEl.onclick = () => {\n",
              "        google.colab.notebook.generateWithVariable('classes_df');\n",
              "      }\n",
              "      })();\n",
              "    </script>\n",
              "  </div>\n",
              "\n",
              "    </div>\n",
              "  </div>\n"
            ],
            "application/vnd.google.colaboratory.intrinsic+json": {
              "type": "dataframe",
              "variable_name": "classes_df"
            }
          },
          "metadata": {},
          "execution_count": 11
        }
      ],
      "source": [
        "classes_df"
      ]
    },
    {
      "cell_type": "markdown",
      "metadata": {
        "id": "OBTEM8zaot9_"
      },
      "source": [
        "**EDA**\n",
        "\n",
        "Let's create a NetworkX graph G from the edge list, where:\n",
        "\n",
        "Each node is a Bitcoin transaction (txId1, txId2).\n",
        "\n",
        "Each edge represents a transaction flow between two transactions (a directed connection in practice)"
      ]
    },
    {
      "cell_type": "code",
      "execution_count": 12,
      "metadata": {
        "id": "dbXd9r4Um1HN"
      },
      "outputs": [],
      "source": [
        "# Let's create a graph\n",
        "G = nx.from_pandas_edgelist(edges, 'txId1', 'txId2')"
      ]
    },
    {
      "cell_type": "code",
      "execution_count": 13,
      "metadata": {
        "colab": {
          "base_uri": "https://localhost:8080/",
          "height": 415
        },
        "id": "NOvAqeHMpH8P",
        "outputId": "9b0e6bf2-4737-4ec0-cc28-b336d5202409"
      },
      "outputs": [
        {
          "output_type": "display_data",
          "data": {
            "text/plain": [
              "<Figure size 600x400 with 1 Axes>"
            ],
            "image/png": "[encoded data removed]"
          },
          "metadata": {}
        }
      ],
      "source": [
        "plt.figure(figsize=(6, 4))\n",
        "degrees = [G.degree(n) for n in G.nodes()]\n",
        "plt.hist(degrees, bins=50, log=True, color='skyblue', edgecolor='black', linewidth=2.0)\n",
        "plt.xscale('log')\n",
        "plt.yscale('log')\n",
        "plt.title('Degree Distribution (Log-Log Scale)')\n",
        "plt.xlabel('Degree (log)')\n",
        "plt.ylabel('Number of Nodes (log)')\n",
        "plt.show()"
      ]
    },
    {
      "cell_type": "markdown",
      "metadata": {
        "id": "bL0iNihvprfB"
      },
      "source": [
        "This graph shows that the network has a heavy-tailed degree distribution.\n",
        "\n",
        "A few transactions interact with many others — potential hubs.\n",
        "\n",
        "Most transactions interact with very few others.\n",
        "\n",
        "The results are pretty common for financial-transaction graphs"
      ]
    },
    {
      "cell_type": "code",
      "execution_count": 14,
      "metadata": {
        "colab": {
          "base_uri": "https://localhost:8080/"
        },
        "id": "4m493ePOp8PN",
        "outputId": "0698cfdc-c13b-4710-b6fb-f9a1af2d8294"
      },
      "outputs": [
        {
          "output_type": "stream",
          "name": "stdout",
          "text": [
            "Number of connected components: 49\n"
          ]
        }
      ],
      "source": [
        "num_connected_components = nx.number_connected_components(G)\n",
        "print(f\"Number of connected components: {num_connected_components}\")"
      ]
    },
    {
      "cell_type": "code",
      "execution_count": 15,
      "metadata": {
        "colab": {
          "base_uri": "https://localhost:8080/"
        },
        "id": "djiDiFEkqEH4",
        "outputId": "a24f90ab-ceb4-4404-c38c-6dfe37c7e042"
      },
      "outputs": [
        {
          "output_type": "stream",
          "name": "stdout",
          "text": [
            "Giant component - Number of nodes: 7,880\n",
            "Giant component - Number of edges: 9,164\n"
          ]
        }
      ],
      "source": [
        "# Giant component analysis (largest connected cluster)\n",
        "giant_component = max(nx.connected_components(G), key=len)\n",
        "G_giant = G.subgraph(giant_component)\n",
        "\n",
        "print(f\"Giant component - Number of nodes: {G_giant.number_of_nodes():,}\")\n",
        "print(f\"Giant component - Number of edges: {G_giant.number_of_edges():,}\")"
      ]
    },
    {
      "cell_type": "markdown",
      "metadata": {
        "id": "VTprORl2q3cO"
      },
      "source": [
        "**Node centrality measures**"
      ]
    },
    {
      "cell_type": "markdown",
      "metadata": {
        "id": "15gw4TIUqyBc"
      },
      "source": [
        "### Degree centrality\n",
        "- measures the number of direct connections a node has in a network. It is defined as the number of edges connected to a node.\n",
        "A node with a high degree centrality is highly connected and may play a crucial role in the network by having direct interactions with many other nodes."
      ]
    },
    {
      "cell_type": "code",
      "execution_count": null,
      "metadata": {
        "id": "AjVSirLsqnMt"
      },
      "outputs": [],
      "source": [
        "# Degree centrality.\n",
        "degree_centrality = nx.degree_centrality(G_giant)\n",
        "top_degree_centrality = sorted(degree_centrality.items(), key=lambda x: x[1], reverse=True)[:10]\n",
        "df_top_degree_centrality = pd.DataFrame(top_degree_centrality, columns=['Node', 'Degree Centrality'])\n",
        "\n",
        "# Subgraph of top nodes\n",
        "top_nodes_by_ = df_top_degree_centrality['Node'].tolist()\n",
        "subgraph = G_giant.subgraph(top_nodes_by_)\n",
        "\n",
        "# Get node colors based on centrality\n",
        "node_color = [degree_centrality[node] for node in subgraph.nodes()]\n",
        "norm = mpl.colors.Normalize(vmin=min(node_color), vmax=max(node_color))\n",
        "cmap = plt.cm.cool\n",
        "\n",
        "# Create scalar mappable for the colorbar\n",
        "sm = mpl.cm.ScalarMappable(norm=norm, cmap=cmap)\n",
        "sm.set_array([])\n"
      ]
    },
    {
      "cell_type": "code",
      "execution_count": null,
      "metadata": {
        "colab": {
          "base_uri": "https://localhost:8080/",
          "height": 675
        },
        "id": "Ax0trfH8q-M4",
        "outputId": "78c52a8b-c78f-42e7-d41f-5ab373cba5e6"
      },
      "outputs": [
        {
          "output_type": "display_data",
          "data": {
            "text/plain": [
              "<Figure size 1000x800 with 2 Axes>"
            ],
            "image/png": "[encoded data removed]"
          },
          "metadata": {}
        }
      ],
      "source": [
        "# Plot\n",
        "plt.figure(figsize=(10, 8))\n",
        "pos = nx.spring_layout(subgraph, seed=42)\n",
        "\n",
        "nx.draw_networkx_nodes(subgraph, pos, node_color=node_color, cmap=cmap, node_size=800, edgecolors='black')\n",
        "nx.draw_networkx_edges(subgraph, pos)\n",
        "nx.draw_networkx_labels(subgraph, pos, font_size=10)\n",
        "\n",
        "plt.colorbar(sm, label='Degree Centrality', ax=plt.gca())\n",
        "plt.title('Top 10 Nodes by Degree Centrality')\n",
        "plt.axis('off')\n",
        "plt.show()\n"
      ]
    },
    {
      "cell_type": "markdown",
      "metadata": {
        "id": "TXDM8dmasrKl"
      },
      "source": [
        "### 2. Betweeness Centrality\n",
        "- Betweenness centrality measures the extent to which a node lies on the shortest paths between other nodes in the network.\n",
        "\n",
        "- A node with high betweenness centrality has significant control over the flow of information or resources in the network because it connects different parts of the network. It often indicates a node that is critical for communication."
      ]
    },
    {
      "cell_type": "code",
      "execution_count": null,
      "metadata": {
        "colab": {
          "base_uri": "https://localhost:8080/"
        },
        "id": "RXCCZtN1sv90",
        "outputId": "8d04caa0-71a8-4bf3-8a38-15d379c6c6c7"
      },
      "outputs": [
        {
          "output_type": "stream",
          "name": "stdout",
          "text": [
            "Top 10 nodes by betweenness centrality:\n",
            "=======================================\n",
            "        Node  Betweenness Centrality\n",
            "0      89273                0.485234\n",
            "1  232438397                0.296735\n",
            "2    2758467                0.164410\n",
            "3    2881273                0.156171\n",
            "4    2881274                0.135059\n",
            "5    2893846                0.104127\n",
            "6  230402893                0.092297\n",
            "7  230658142                0.087068\n",
            "8   34174548                0.081942\n",
            "9    2880930                0.078085\n"
          ]
        }
      ],
      "source": [
        "# Betweenness centrality.\n",
        "betweenness_centrality = nx.betweenness_centrality(G_giant)\n",
        "top_betweenness_centrality = sorted(betweenness_centrality.items(), key=lambda x: x[1], reverse=True)[:10]\n",
        "df_top_betweenness_centrality = pd.DataFrame(top_betweenness_centrality, columns=['Node', 'Betweenness Centrality'])\n",
        "\n",
        "print(\"Top 10 nodes by betweenness centrality:\")\n",
        "print(\"=======================================\")\n",
        "print(df_top_betweenness_centrality)\n",
        "\n",
        "top_nodes_by_ = df_top_betweenness_centrality['Node'].tolist()\n",
        "subgraph = G_giant.subgraph(top_nodes_by_)\n",
        "node_color = [betweenness_centrality[node] for node in subgraph.nodes()]\n",
        "norm = mpl.colors.Normalize(vmin=min(node_color), vmax=max(node_color))\n",
        "node_color_normalized = [norm(value) for value in node_color]\n",
        "cmap = plt.cm.cool"
      ]
    },
    {
      "cell_type": "code",
      "execution_count": null,
      "metadata": {
        "colab": {
          "base_uri": "https://localhost:8080/",
          "height": 675
        },
        "id": "5WGQbkp1sy89",
        "outputId": "5737abf0-6f9f-46ca-c902-1d702c77cf72"
      },
      "outputs": [
        {
          "output_type": "display_data",
          "data": {
            "text/plain": [
              "<Figure size 1500x800 with 2 Axes>"
            ],
            "image/png": "[encoded data removed]"
          },
          "metadata": {}
        }
      ],
      "source": [
        "fig, ax = plt.subplots(figsize=(15, 8))\n",
        "pos = nx.spring_layout(subgraph, seed=42)\n",
        "\n",
        "nodes = nx.draw_networkx_nodes(subgraph, pos,\n",
        "                               node_color=node_color,\n",
        "                               cmap=cmap,\n",
        "                               node_size=300,\n",
        "                               ax=ax)\n",
        "nx.draw_networkx_edges(subgraph, pos, ax=ax, edge_color='gray')\n",
        "nx.draw_networkx_labels(subgraph, pos, ax=ax, font_size=8)\n",
        "\n",
        "sm = mpl.cm.ScalarMappable(norm=norm, cmap=cmap)\n",
        "sm.set_array([])\n",
        "fig.colorbar(sm, ax=ax, label='Betweenness Centrality')\n",
        "\n",
        "ax.set_title('Top 10 Betweenness Centrality Nodes')\n",
        "ax.axis('off')\n",
        "plt.show()"
      ]
    },
    {
      "cell_type": "markdown",
      "metadata": {
        "id": "f2273qCTs5hJ"
      },
      "source": [
        "### 3. Closeness Centrality\n",
        "- Closeness centrality measures how close a node is to all other nodes in the network. It is the reciprocal of the sum of the shortest path distances from the node to all other nodes in the network.\n",
        "-  A node with high closeness centrality can quickly interact with all other nodes and can be an effective spreader of information or influence throughout the network."
      ]
    },
    {
      "cell_type": "code",
      "execution_count": null,
      "metadata": {
        "colab": {
          "base_uri": "https://localhost:8080/"
        },
        "id": "R38J_64os6Y5",
        "outputId": "c65ce462-b5bd-4a72-94bb-4aeffe9d9fa5"
      },
      "outputs": [
        {
          "output_type": "stream",
          "name": "stdout",
          "text": [
            "Top 10 nodes by closeness centrality:\n",
            "=====================================\n",
            "        Node  Closeness Centrality\n",
            "0      89273              0.162511\n",
            "1  232438397              0.155365\n",
            "2  230438845              0.151394\n",
            "3  230439793              0.151394\n",
            "4  230683551              0.149009\n",
            "5  230537117              0.148888\n",
            "6  230451730              0.147738\n",
            "7  232031824              0.146728\n",
            "8  203465969              0.146725\n",
            "9  232054853              0.146205\n"
          ]
        }
      ],
      "source": [
        "# Closeness centrality.\n",
        "closeness_centrality = nx.closeness_centrality(G_giant)\n",
        "top_closeness_centrality = sorted(closeness_centrality.items(), key=lambda x: x[1], reverse=True)[:10]\n",
        "df_top_closeness_centrality = pd.DataFrame(top_closeness_centrality, columns=['Node', 'Closeness Centrality'])\n",
        "\n",
        "print(\"Top 10 nodes by closeness centrality:\")\n",
        "print(\"=====================================\")\n",
        "print(df_top_closeness_centrality)\n",
        "\n",
        "top_nodes_by_closeness = df_top_closeness_centrality['Node'].tolist()\n",
        "subgraph = G_giant.subgraph(top_nodes_by_closeness)\n",
        "node_color = [closeness_centrality[node] for node in subgraph.nodes()]\n",
        "norm = mpl.colors.Normalize(vmin=min(node_color), vmax=max(node_color))\n",
        "node_color_normalized = [norm(value) for value in node_color]\n",
        "cmap = plt.cm.cool\n"
      ]
    },
    {
      "cell_type": "code",
      "execution_count": null,
      "metadata": {
        "colab": {
          "base_uri": "https://localhost:8080/",
          "height": 290
        },
        "id": "RSMrt2oKs-Ti",
        "outputId": "f5eef47c-f0c2-4be0-e8a5-c0a99f9b04b1"
      },
      "outputs": [
        {
          "output_type": "display_data",
          "data": {
            "text/plain": [
              "<Figure size 700x300 with 2 Axes>"
            ],
            "image/png": "[encoded data removed]"
          },
          "metadata": {}
        }
      ],
      "source": [
        "fig, ax = plt.subplots(figsize=(7, 3))\n",
        "pos = nx.spring_layout(subgraph, seed=42)\n",
        "\n",
        "nodes = nx.draw_networkx_nodes(\n",
        "    subgraph, pos,\n",
        "    node_color=node_color,\n",
        "    cmap=cmap,\n",
        "    node_size=300,\n",
        "    ax=ax\n",
        ")\n",
        "nx.draw_networkx_edges(subgraph, pos, ax=ax, edge_color='gray')\n",
        "nx.draw_networkx_labels(subgraph, pos, ax=ax, font_size=8)\n",
        "\n",
        "# Create colorbar from scalar mappable\n",
        "sm = mpl.cm.ScalarMappable(norm=norm, cmap=cmap)\n",
        "sm.set_array([])\n",
        "fig.colorbar(sm, ax=ax, label='Closeness Centrality')\n",
        "\n",
        "ax.set_title('Top 10 Closeness Centrality Nodes')\n",
        "ax.axis('off')\n",
        "plt.show()"
      ]
    },
    {
      "cell_type": "markdown",
      "metadata": {
        "id": "i_MRtyNPtH_w"
      },
      "source": [
        "**Class-specific analysis**"
      ]
    },
    {
      "cell_type": "code",
      "execution_count": null,
      "metadata": {
        "id": "m5SF_4E1tBri"
      },
      "outputs": [],
      "source": [
        "# Class-based subgraphs.\n",
        "#illicit_nodes = classes_df[classes_df['class'] == 1]['txId']\n",
        "#licit_nodes = classes_df[classes_df['class'] == 2]['txId']\n",
        "illicit_nodes = classes_df[classes_df['class'] == 'illicit']['txId']\n",
        "licit_nodes = classes_df[classes_df['class'] == 'licit']['txId']\n",
        "\n",
        "G_illicit = G.subgraph(illicit_nodes)\n",
        "G_licit = G.subgraph(licit_nodes)"
      ]
    },
    {
      "cell_type": "code",
      "execution_count": null,
      "metadata": {
        "colab": {
          "base_uri": "https://localhost:8080/",
          "height": 539
        },
        "id": "1LFCd15A5O9v",
        "outputId": "f4ca4184-0601-494d-cf3c-b1bb0de9df23"
      },
      "outputs": [
        {
          "output_type": "execute_result",
          "data": {
            "text/plain": [
              "Text(0.5, 1.0, 'Illicit Transactions Subgraph')"
            ]
          },
          "metadata": {},
          "execution_count": 71
        },
        {
          "output_type": "display_data",
          "data": {
            "text/plain": [
              "<Figure size 1200x600 with 1 Axes>"
            ],
            "image/png": "[encoded data removed]"
          },
          "metadata": {}
        }
      ],
      "source": [
        "plt.figure(figsize=(12, 6))\n",
        "\n",
        "plt.subplot(1, 2, 1)\n",
        "nx.draw(G_illicit, with_labels=False, node_size=10, node_color='indianred', edge_color='black')\n",
        "plt.title('Illicit Transactions Subgraph')"
      ]
    },
    {
      "cell_type": "code",
      "execution_count": null,
      "metadata": {
        "id": "RfyD1pyK6FCy"
      },
      "outputs": [],
      "source": [
        "# plt.subplot(1, 2, 2)\n",
        "# nx.draw(G_licit, with_labels=False, node_size=10, node_color='forestgreen', edge_color='black')\n",
        "# plt.title('Licit Transactions Subgraph')\n",
        "\n",
        "# plt.show()"
      ]
    },
    {
      "cell_type": "code",
      "execution_count": null,
      "metadata": {
        "id": "OYHguqlagExx"
      },
      "outputs": [],
      "source": [
        "# class_values = sorted(classes[\"class\"].unique())"
      ]
    },
    {
      "cell_type": "code",
      "execution_count": null,
      "metadata": {
        "id": "wZAU1RkNgT7M"
      },
      "outputs": [],
      "source": [
        "# tx_idx = {name: idx for idx, name in enumerate(sorted(classes[\"txId\"].unique()))}"
      ]
    },
    {
      "cell_type": "code",
      "execution_count": null,
      "metadata": {
        "id": "-_prOdbBmSAw"
      },
      "outputs": [],
      "source": [
        "# classes[\"txId\"] = classes[\"txId\"].apply(lambda name: tx_idx[name])"
      ]
    },
    {
      "cell_type": "markdown",
      "metadata": {
        "id": "PVCEARc7gLPZ"
      },
      "source": [
        "## DeepWalk"
      ]
    },
    {
      "cell_type": "code",
      "execution_count": 16,
      "metadata": {
        "id": "HwLjmLLF6cEB"
      },
      "outputs": [],
      "source": [
        "G_base = G_giant"
      ]
    },
    {
      "cell_type": "code",
      "execution_count": 17,
      "metadata": {
        "id": "01skkxiu6h6j"
      },
      "outputs": [],
      "source": [
        "all_nodes = list(G_base.nodes())\n",
        "tx_idx = {tx: i for i, tx in enumerate(sorted(all_nodes))}\n",
        "idx2tx = {i: tx for tx, i in tx_idx.items()}"
      ]
    },
    {
      "cell_type": "code",
      "execution_count": 18,
      "metadata": {
        "id": "A306ZkvigQ5g"
      },
      "outputs": [],
      "source": [
        "# Build Integer Graph\n",
        "def nx_from_edgelist(df_edges, mapping):\n",
        "    df_int = df_edges.replace({'txId1': mapping, 'txId2': mapping})\n",
        "    return nx.from_pandas_edgelist(df_int, 'txId1', 'txId2')"
      ]
    },
    {
      "cell_type": "code",
      "execution_count": 19,
      "metadata": {
        "id": "6beN-vjz7cFz"
      },
      "outputs": [],
      "source": [
        "base_edges = edges[edges['txId1'].isin(G_base.nodes())]\n",
        "base_edges = base_edges[base_edges['txId2'].isin(G_base.nodes())]\n",
        "\n",
        "G_int = nx_from_edgelist(base_edges, tx_idx)"
      ]
    },
    {
      "cell_type": "code",
      "execution_count": 20,
      "metadata": {
        "id": "YFkZk0XbnQHJ"
      },
      "outputs": [],
      "source": [
        "def random_walk(graph, start, walk_length, rng=None):\n",
        "    walk = [start]\n",
        "    if rng is None:\n",
        "        rng = random.Random()\n",
        "\n",
        "    for _ in range(walk_length - 1):\n",
        "        cur = walk[-1]\n",
        "        neighbours = list(graph[cur])\n",
        "        if neighbours:\n",
        "            walk.append(rng.choice(neighbours))\n",
        "        else:\n",
        "            break\n",
        "    return walk"
      ]
    },
    {
      "cell_type": "code",
      "execution_count": 21,
      "metadata": {
        "id": "taeyVKt4nYuO"
      },
      "outputs": [],
      "source": [
        "def _walk_worker(args):\n",
        "    graph, node_batch, walk_len, walks_per_node = args\n",
        "    rng = random.Random()\n",
        "    walks = []\n",
        "    for n in node_batch:\n",
        "        for _ in range(walks_per_node):\n",
        "            walks.append(random_walk(graph, n, walk_len, rng))\n",
        "    return walks"
      ]
    },
    {
      "cell_type": "code",
      "execution_count": 22,
      "metadata": {
        "id": "DT9rUNlVg48c"
      },
      "outputs": [],
      "source": [
        "def build_corpus(graph, walk_length=40, walks_per_node=10, workers=None):\n",
        "    if workers is None:\n",
        "        workers = mp.cpu_count()\n",
        "\n",
        "    nodes = list(graph.nodes())\n",
        "    np.random.shuffle(nodes)\n",
        "\n",
        "    batches = np.array_split(nodes, workers)\n",
        "\n",
        "    with mp.Pool(workers) as pool:\n",
        "        results = pool.map(\n",
        "            _walk_worker,\n",
        "            [(graph, batch, walk_length, walks_per_node) for batch in batches]\n",
        "        )\n",
        "\n",
        "    return [walk for sub in results for walk in sub]"
      ]
    },
    {
      "cell_type": "code",
      "execution_count": 23,
      "metadata": {
        "id": "TNVeocVLhMqA"
      },
      "outputs": [],
      "source": [
        "def train_word2vec(sentences, dim=128, window=10, epochs=5, neg=5, workers=mp.cpu_count()):\n",
        "    model = Word2Vec(\n",
        "        sentences=sentences,\n",
        "        vector_size=dim,\n",
        "        window=window,\n",
        "        min_count=0,\n",
        "        sg=1,\n",
        "        hs=0,\n",
        "        negative=neg,\n",
        "        workers=workers,\n",
        "        epochs=epochs,\n",
        "        seed=42\n",
        "    )\n",
        "    return model"
      ]
    },
    {
      "cell_type": "code",
      "execution_count": 24,
      "metadata": {
        "id": "M97PG5GIhRNu"
      },
      "outputs": [],
      "source": [
        "def save_embeddings(w2v_model, path_pt='deepwalk.pt', path_txt='deepwalk.txt'):\n",
        "    vectors = torch.tensor(w2v_model.wv.vectors)          # (N, dim)\n",
        "    torch.save(vectors, path_pt)\n",
        "\n",
        "    with open(path_txt, 'w') as f:\n",
        "        dim = vectors.shape[1]\n",
        "        f.write(f\"{vectors.shape[0]} {dim}\\n\")\n",
        "        for node, vec in w2v_model.wv.key_to_index.items():\n",
        "            vec_str = \" \".join(map(str, w2v_model.wv[node]))\n",
        "            f.write(f\"{node} {vec_str}\\n\")"
      ]
    },
    {
      "cell_type": "code",
      "execution_count": 25,
      "metadata": {
        "id": "XqpZNd-dhT52"
      },
      "outputs": [],
      "source": [
        "def run_deepwalk(graph, params):\n",
        "    corpus = build_corpus(graph,\n",
        "                          walk_length=params['walk_length'],\n",
        "                          walks_per_node=params['walks_per_node'])\n",
        "    w2v     = train_word2vec(corpus,\n",
        "                             dim=params['dim'],\n",
        "                             window=params['window'],\n",
        "                             epochs=params['epochs'],\n",
        "                             neg=params['neg'])\n",
        "    save_embeddings(w2v,\n",
        "                    path_pt=params['out_pt'],\n",
        "                    path_txt=params['out_txt'])\n",
        "    return w2v"
      ]
    },
    {
      "cell_type": "code",
      "execution_count": 26,
      "metadata": {
        "colab": {
          "base_uri": "https://localhost:8080/"
        },
        "id": "YrS-RkPC77yW",
        "outputId": "8b66e182-6ade-4eff-b557-c3aab0ebcb39"
      },
      "outputs": [
        {
          "output_type": "execute_result",
          "data": {
            "text/plain": [
              "<gensim.models.word2vec.Word2Vec at 0x7b880d90c6d0>"
            ]
          },
          "metadata": {},
          "execution_count": 26
        }
      ],
      "source": [
        "params = dict(walk_length=40, walks_per_node=10,\n",
        "              dim=128, window=10, epochs=5, neg=5,\n",
        "              out_pt='elliptic_deepwalk.pt', out_txt='elliptic_deepwalk.txt')\n",
        "run_deepwalk(G_int, params)"
      ]
    },
    {
      "cell_type": "code",
      "execution_count": 27,
      "metadata": {
        "colab": {
          "base_uri": "https://localhost:8080/"
        },
        "id": "HkN8ePI1kBc0",
        "outputId": "8704ddda-a56f-47b1-9ed9-4c5640a7289a"
      },
      "outputs": [
        {
          "output_type": "stream",
          "name": "stdout",
          "text": [
            "Done! Embeddings saved to deepwalk_embeddings.pt\n"
          ]
        }
      ],
      "source": [
        "if __name__ == \"__main__\":\n",
        "    default_pars = dict(\n",
        "        walk_length=40,\n",
        "        walks_per_node=10,\n",
        "        dim=128,\n",
        "        window=10,\n",
        "        epochs=5,\n",
        "        neg=5,\n",
        "        out_pt='deepwalk_embeddings.pt',\n",
        "        out_txt='deepwalk_embeddings.txt'\n",
        "    )\n",
        "    w2v_model = run_deepwalk(G_int, default_pars)\n",
        "    print(\"Done! Embeddings saved to\", default_pars['out_pt'])"
      ]
    },
    {
      "cell_type": "code",
      "execution_count": 28,
      "metadata": {
        "id": "txoj0cB-iKJ6"
      },
      "outputs": [],
      "source": [
        "z = torch.load('elliptic_deepwalk.pt')  # (N, 128)"
      ]
    },
    {
      "cell_type": "code",
      "execution_count": 29,
      "metadata": {
        "colab": {
          "base_uri": "https://localhost:8080/",
          "height": 468
        },
        "id": "ki8kQHaoywLX",
        "outputId": "70e3e15f-11ba-4101-aa7e-70812c7e1e60"
      },
      "outputs": [
        {
          "output_type": "display_data",
          "data": {
            "text/plain": [
              "<Figure size 600x500 with 1 Axes>"
            ],
            "image/png": "[encoded data removed]"
          },
          "metadata": {}
        }
      ],
      "source": [
        "y = classes.set_index('txId')['class'].map({'illicit': 1, 'licit': 0, 'unknown': -1})\n",
        "\n",
        "all_tx_ids_in_embedding_order = list(tx_idx.keys())\n",
        "y = y[y.index.isin(all_tx_ids_in_embedding_order)]\n",
        "y = y.reindex(all_tx_ids_in_embedding_order)\n",
        "y = torch.tensor(y.values)\n",
        "\n",
        "tsne = TSNE(n_components=2, perplexity=40, init='random', random_state=42)\n",
        "xy = tsne.fit_transform(z.numpy())\n",
        "\n",
        "plt.figure(figsize=(6, 5))\n",
        "plt.scatter(xy[y == 0, 0], xy[y == 0, 1], s=4, c='forestgreen', label='licit', alpha=.4)\n",
        "plt.scatter(xy[y == 1, 0], xy[y == 1, 1], s=5, c='indianred', label='illicit', alpha=.6)\n",
        "plt.scatter(xy[y == -1, 0], xy[y == -1, 1], s=2, c='gray', label='unknown', alpha=0.3)\n",
        "\n",
        "plt.legend()\n",
        "plt.title(\"DeepWalk embedding\")\n",
        "plt.show()"
      ]
    },
    {
      "cell_type": "markdown",
      "metadata": {
        "id": "EzBK7ptLbCDO"
      },
      "source": [
        "## GRAPHSAGE"
      ]
    },
    {
      "cell_type": "code",
      "execution_count": 30,
      "metadata": {
        "id": "BqVjibAebIAo"
      },
      "outputs": [],
      "source": [
        "pyg_data = from_networkx(G_int)"
      ]
    },
    {
      "cell_type": "code",
      "execution_count": 31,
      "metadata": {
        "id": "cGgQYcS2bR6d"
      },
      "outputs": [],
      "source": [
        "feat_cols = trans_features + agg_features\n",
        "ordered_txs = [idx2tx[i] for i in range(len(idx2tx))]\n",
        "X = features.set_index('txId').loc[ordered_txs, feat_cols].values\n",
        "pyg_data.x = torch.tensor(X, dtype=torch.float)"
      ]
    },
    {
      "cell_type": "code",
      "execution_count": 32,
      "metadata": {
        "id": "9u_Ch9tmbYXQ"
      },
      "outputs": [],
      "source": [
        "y_series = classes.set_index('txId')['class'].map({'licit':0, 'illicit':1, 'unknown':-1})\n",
        "y = torch.tensor(y_series.loc[ordered_txs].values, dtype=torch.long)\n",
        "pyg_data.y = y"
      ]
    },
    {
      "cell_type": "code",
      "execution_count": 33,
      "metadata": {
        "id": "9BvWMQ7vbtQS"
      },
      "outputs": [],
      "source": [
        "num_nodes = y.size(0)\n",
        "mask_known = (y >= 0)\n",
        "known_indices = mask_known.nonzero(as_tuple=False).view(-1)\n",
        "perm = known_indices[torch.randperm(known_indices.size(0))]\n",
        "n_train = int(0.8 * perm.size(0))\n",
        "n_val   = int(0.1 * perm.size(0))\n",
        "\n",
        "train_idx = perm[:n_train]\n",
        "val_idx   = perm[n_train:n_train+n_val]\n",
        "test_idx  = perm[n_train+n_val:]\n",
        "\n",
        "train_mask = torch.zeros(num_nodes, dtype=torch.bool)\n",
        "val_mask   = torch.zeros(num_nodes, dtype=torch.bool)\n",
        "test_mask  = torch.zeros(num_nodes, dtype=torch.bool)\n",
        "\n",
        "train_mask[train_idx] = True\n",
        "val_mask[ val_idx]   = True\n",
        "test_mask[test_idx]  = True\n",
        "\n",
        "pyg_data.train_mask = train_mask\n",
        "pyg_data.val_mask   = val_mask\n",
        "pyg_data.test_mask  = test_mask"
      ]
    },
    {
      "cell_type": "code",
      "execution_count": 34,
      "metadata": {
        "id": "kJGfWaJcb1S0"
      },
      "outputs": [],
      "source": [
        "class GraphSAGENet(nn.Module):\n",
        "    def __init__(self, in_channels, hidden_channels, out_channels,\n",
        "                 num_layers=2, dropout=0.5):\n",
        "        super().__init__()\n",
        "        convs = []\n",
        "        convs.append(SAGEConv(in_channels, hidden_channels))\n",
        "        for _ in range(num_layers - 2):\n",
        "            convs.append(SAGEConv(hidden_channels, hidden_channels))\n",
        "        convs.append(SAGEConv(hidden_channels, out_channels))\n",
        "        self.convs = nn.ModuleList(convs)\n",
        "        self.dropout = dropout\n",
        "\n",
        "    def forward(self, x, edge_index):\n",
        "        for conv in self.convs[:-1]:\n",
        "            x = conv(x, edge_index)\n",
        "            x = F.relu(x)\n",
        "            x = F.dropout(x, p=self.dropout, training=self.training)\n",
        "        x = self.convs[-1](x, edge_index)\n",
        "        return x\n",
        "\n",
        "device = torch.device('cuda' if torch.cuda.is_available() else 'cpu')\n",
        "model = GraphSAGENet(\n",
        "    in_channels=pyg_data.x.size(1),\n",
        "    hidden_channels=128,\n",
        "    out_channels=2,\n",
        "    num_layers=2,\n",
        "    dropout=0.5\n",
        ").to(device)\n",
        "pyg_data = pyg_data.to(device)"
      ]
    },
    {
      "cell_type": "code",
      "execution_count": 35,
      "metadata": {
        "id": "UW7fcxekb6-E"
      },
      "outputs": [],
      "source": [
        "train_loader = NeighborLoader(\n",
        "    pyg_data,\n",
        "    input_nodes= pyg_data.train_mask,\n",
        "    num_neighbors=[15, 10],\n",
        "    batch_size=64,\n",
        "    shuffle=True\n",
        ")\n",
        "val_loader = NeighborLoader(\n",
        "    pyg_data,\n",
        "    input_nodes= pyg_data.val_mask,\n",
        "    num_neighbors=[15, 10],\n",
        "    batch_size=64\n",
        ")\n",
        "test_loader = NeighborLoader(\n",
        "    pyg_data,\n",
        "    input_nodes= pyg_data.test_mask,\n",
        "    num_neighbors=[15, 10],\n",
        "    batch_size=64\n",
        ")"
      ]
    },
    {
      "cell_type": "code",
      "execution_count": 36,
      "metadata": {
        "id": "IvQfoYOTct9i"
      },
      "outputs": [],
      "source": [
        "optimizer = torch.optim.Adam(model.parameters(), lr=0.005, weight_decay=5e-4)\n",
        "criterion = nn.CrossEntropyLoss()"
      ]
    },
    {
      "cell_type": "code",
      "execution_count": 37,
      "metadata": {
        "id": "vZHHckJVcwz1"
      },
      "outputs": [],
      "source": [
        "def train_epoch():\n",
        "    model.train()\n",
        "    total_loss = 0\n",
        "    for batch in train_loader:\n",
        "        batch = batch.to(device)\n",
        "        optimizer.zero_grad()\n",
        "        out = model(batch.x, batch.edge_index)\n",
        "        loss = criterion(out[:batch.batch_size], batch.y[:batch.batch_size])\n",
        "        loss.backward()\n",
        "        optimizer.step()\n",
        "        total_loss += loss.item() * batch.batch_size\n",
        "    return total_loss / pyg_data.train_mask.sum().item()"
      ]
    },
    {
      "cell_type": "code",
      "execution_count": 38,
      "metadata": {
        "id": "3L8ZbNwyczBT"
      },
      "outputs": [],
      "source": [
        "@torch.no_grad()\n",
        "def evaluate(loader):\n",
        "    model.eval()\n",
        "    ys, preds = [], []\n",
        "    for batch in loader:\n",
        "        batch = batch.to(device)\n",
        "        out = model(batch.x, batch.edge_index)\n",
        "        y_true = batch.y[:batch.batch_size].cpu()\n",
        "        y_pred = out[:batch.batch_size].argmax(dim=1).cpu()\n",
        "        ys.append(y_true)\n",
        "        preds.append(y_pred)\n",
        "    y_true = torch.cat(ys)\n",
        "    y_pred = torch.cat(preds)\n",
        "    acc = (y_true == y_pred).float().mean().item()\n",
        "    return acc, y_true, y_pred"
      ]
    },
    {
      "cell_type": "code",
      "execution_count": 39,
      "metadata": {
        "colab": {
          "base_uri": "https://localhost:8080/"
        },
        "id": "9TOQWkUubEpF",
        "outputId": "a1f3dc76-172b-44f8-fd87-de1a1353848d"
      },
      "outputs": [
        {
          "output_type": "stream",
          "name": "stdout",
          "text": [
            "Epoch 01  Train Loss: 0.1028  Val Acc: 0.9953\n",
            "Epoch 02  Train Loss: 0.0467  Val Acc: 0.9953\n",
            "Epoch 03  Train Loss: 0.0318  Val Acc: 0.9953\n",
            "Epoch 04  Train Loss: 0.0317  Val Acc: 0.9953\n",
            "Epoch 05  Train Loss: 0.0279  Val Acc: 0.9953\n",
            "Epoch 06  Train Loss: 0.0221  Val Acc: 0.9953\n",
            "Epoch 07  Train Loss: 0.0308  Val Acc: 0.9953\n",
            "Epoch 08  Train Loss: 0.0230  Val Acc: 0.9953\n",
            "Epoch 09  Train Loss: 0.0200  Val Acc: 0.9953\n",
            "Epoch 10  Train Loss: 0.0236  Val Acc: 0.9953\n",
            "Epoch 11  Train Loss: 0.0280  Val Acc: 0.9953\n",
            "Epoch 12  Train Loss: 0.0226  Val Acc: 0.9953\n",
            "Epoch 13  Train Loss: 0.0193  Val Acc: 0.9953\n",
            "Epoch 14  Train Loss: 0.0184  Val Acc: 0.9953\n",
            "Epoch 15  Train Loss: 0.0138  Val Acc: 0.9953\n",
            "Epoch 16  Train Loss: 0.0363  Val Acc: 0.9953\n",
            "Epoch 17  Train Loss: 0.0177  Val Acc: 0.9953\n",
            "Epoch 18  Train Loss: 0.0252  Val Acc: 0.9907\n",
            "Epoch 19  Train Loss: 0.0178  Val Acc: 0.9953\n",
            "Epoch 20  Train Loss: 0.0201  Val Acc: 0.9953\n"
          ]
        }
      ],
      "source": [
        "epochs = 20\n",
        "for epoch in range(1, epochs + 1):\n",
        "    loss = train_epoch()\n",
        "    val_acc, _, _ = evaluate(val_loader)\n",
        "    print(f\"Epoch {epoch:02d}  Train Loss: {loss:.4f}  Val Acc: {val_acc:.4f}\")"
      ]
    },
    {
      "cell_type": "code",
      "execution_count": 40,
      "metadata": {
        "id": "_uDY9g8wc3wZ",
        "colab": {
          "base_uri": "https://localhost:8080/"
        },
        "outputId": "7a2177c6-47cf-40f3-d509-6b260177ddfe"
      },
      "outputs": [
        {
          "output_type": "stream",
          "name": "stdout",
          "text": [
            "\n",
            "Test Accuracy: 0.9954\n",
            "              precision    recall  f1-score   support\n",
            "\n",
            "       licit       1.00      1.00      1.00       215\n",
            "     illicit       0.00      0.00      0.00         1\n",
            "\n",
            "    accuracy                           1.00       216\n",
            "   macro avg       0.50      0.50      0.50       216\n",
            "weighted avg       0.99      1.00      0.99       216\n",
            "\n"
          ]
        },
        {
          "output_type": "stream",
          "name": "stderr",
          "text": [
            "/usr/local/lib/python3.11/dist-packages/sklearn/metrics/_classification.py:1565: UndefinedMetricWarning: Precision is ill-defined and being set to 0.0 in labels with no predicted samples. Use `zero_division` parameter to control this behavior.\n",
            "  _warn_prf(average, modifier, f\"{metric.capitalize()} is\", len(result))\n",
            "/usr/local/lib/python3.11/dist-packages/sklearn/metrics/_classification.py:1565: UndefinedMetricWarning: Precision is ill-defined and being set to 0.0 in labels with no predicted samples. Use `zero_division` parameter to control this behavior.\n",
            "  _warn_prf(average, modifier, f\"{metric.capitalize()} is\", len(result))\n",
            "/usr/local/lib/python3.11/dist-packages/sklearn/metrics/_classification.py:1565: UndefinedMetricWarning: Precision is ill-defined and being set to 0.0 in labels with no predicted samples. Use `zero_division` parameter to control this behavior.\n",
            "  _warn_prf(average, modifier, f\"{metric.capitalize()} is\", len(result))\n"
          ]
        }
      ],
      "source": [
        "test_acc, y_true_test, y_pred_test = evaluate(test_loader)\n",
        "print(f\"\\nTest Accuracy: {test_acc:.4f}\")\n",
        "print(classification_report(y_true_test, y_pred_test, target_names=['licit','illicit']))"
      ]
    },
    {
      "cell_type": "code",
      "source": [
        "@torch.no_grad()\n",
        "def eval_auc():\n",
        "    model.eval()\n",
        "    out = model(pyg_data.x, pyg_data.edge_index).cpu()\n",
        "    y_true = pyg_data.y.cpu()\n",
        "    mask   = pyg_data.test_mask.cpu()\n",
        "    probs  = F.softmax(out, dim=1)[:,1]  # P(illicit)\n",
        "    return {\n",
        "      \"ROC AUC\": roc_auc_score(y_true[mask], probs[mask]),\n",
        "      \"PR AUC\":  average_precision_score(y_true[mask], probs[mask])\n",
        "    }\n",
        "\n",
        "metrics = eval_auc()\n",
        "print(metrics)"
      ],
      "metadata": {
        "colab": {
          "base_uri": "https://localhost:8080/"
        },
        "id": "UPdis7kWkwng",
        "outputId": "b1dd7fb5-0190-4422-df8f-b5c0f21c5fe7"
      },
      "execution_count": 45,
      "outputs": [
        {
          "output_type": "stream",
          "name": "stdout",
          "text": [
            "{'ROC AUC': 0.32093023255813957, 'PR AUC': 0.006802721088435374}\n"
          ]
        }
      ]
    },
    {
      "cell_type": "markdown",
      "source": [
        "## Deep Neural Decision Forest"
      ],
      "metadata": {
        "id": "Y_ziCC44A_Am"
      }
    },
    {
      "cell_type": "code",
      "source": [
        "model.eval()\n",
        "with torch.no_grad():\n",
        "    h = model.convs[0](pyg_data.x.to(device), pyg_data.edge_index.to(device))\n",
        "    h = F.relu(h)\n",
        "    h = F.dropout(h, p=model.dropout, training=False)\n",
        "    embeddings = h.cpu()  # (N, 128)\n",
        "\n",
        "y_all   = pyg_data.y.cpu()                 # (N,)\n",
        "train_m = pyg_data.train_mask.cpu()\n",
        "val_m   = pyg_data.val_mask.cpu()\n",
        "test_m  = pyg_data.test_mask.cpu()"
      ],
      "metadata": {
        "id": "esyiEHzSBH9F"
      },
      "execution_count": 50,
      "outputs": []
    },
    {
      "cell_type": "code",
      "source": [
        "class DNDF(nn.Module):\n",
        "    def __init__(self, input_dim, num_trees=5, depth=3, num_classes=2):\n",
        "        super().__init__()\n",
        "        self.num_trees = num_trees\n",
        "        self.depth     = depth\n",
        "        self.num_classes = num_classes\n",
        "\n",
        "        self.I = 2**depth - 1   # internal nodes per tree\n",
        "        self.L = 2**depth       # leaves per tree\n",
        "\n",
        "        self.decision_w = nn.Parameter(torch.randn(num_trees*self.I, input_dim))\n",
        "        self.decision_b = nn.Parameter(torch.zeros(num_trees*self.I))\n",
        "\n",
        "        self.leaf_p     = nn.Parameter(torch.randn(num_trees, self.L, num_classes))\n",
        "\n",
        "    def forward(self, x):\n",
        "        \"\"\"\n",
        "        x: (N, input_dim)\n",
        "        returns: log_probs (N, num_classes)\n",
        "        \"\"\"\n",
        "        N = x.size(0)\n",
        "\n",
        "        logits = F.linear(x, self.decision_w, self.decision_b)  # (N, T*I)\n",
        "        probs  = torch.sigmoid(logits).view(N, self.num_trees, self.I)\n",
        "\n",
        "        if not hasattr(self, 'leaf_decisions'):\n",
        "            decisions = []\n",
        "            for leaf_idx in range(self.L):\n",
        "                path = []\n",
        "                for node in range(self.I):\n",
        "                    bit = ((leaf_idx >> (self.depth - 1 - int(torch.floor(torch.log2(torch.tensor(node+1)).float())))) & 1)\n",
        "                    pass\n",
        "            dec = torch.zeros(self.L, self.I)\n",
        "            for l in range(self.L):\n",
        "                idx = 0\n",
        "                for d in range(self.depth):\n",
        "                    half = 2**(self.depth-1-d)\n",
        "                    if l < ( (l//half)*half + half//2 ):\n",
        "                        dec[l, idx] = 1\n",
        "                        idx = 2*idx + 1\n",
        "                    else:\n",
        "                        dec[l, idx] = 0\n",
        "                        idx = 2*idx + 2\n",
        "            self.leaf_decisions = dec  # (L, I)\n",
        "\n",
        "        leaf_dec = self.leaf_decisions.to(probs.device)\n",
        "        probs_exp = probs.unsqueeze(2).expand(-1, -1, self.L, -1)      # (N, T, L, I)\n",
        "        leaf_dec_exp = leaf_dec.unsqueeze(0).unsqueeze(0)              # (1, 1, L, I)\n",
        "        leaf_dec_exp = leaf_dec_exp.expand(N, self.num_trees, -1, -1)  # (N, T, L, I)\n",
        "\n",
        "        p_left  = probs_exp\n",
        "        p_right = 1 - probs_exp\n",
        "        leaf_prob = torch.where(leaf_dec_exp==1, p_left, p_right).prod(dim=-1)\n",
        "\n",
        "        leaf_scores = F.softmax(self.leaf_p, dim=-1)  # (T, L, C)\n",
        "\n",
        "        tree_prob = torch.einsum('ntl,tlc->ntc', leaf_prob, leaf_scores)\n",
        "\n",
        "        prob = tree_prob.mean(dim=1)      # (N, C)\n",
        "        return torch.log(prob + 1e-6)"
      ],
      "metadata": {
        "id": "kmo4ttZ-BN2e"
      },
      "execution_count": 51,
      "outputs": []
    },
    {
      "cell_type": "code",
      "source": [
        "dndf = DNDF(input_dim=embeddings.size(1), num_trees=5, depth=3, num_classes=2).to(device)\n",
        "opt2 = torch.optim.Adam(dndf.parameters(), lr=1e-3)\n",
        "crit2 = nn.NLLLoss()\n",
        "\n",
        "emb_dev = embeddings.to(device)\n",
        "y_dev   = y_all.to(device)\n",
        "t_m, v_m, te_m = train_m.to(device), val_m.to(device), test_m.to(device)\n",
        "\n",
        "for epoch in range(1, 51):\n",
        "    dndf.train()\n",
        "    opt2.zero_grad()\n",
        "    logp = dndf(emb_dev)          # (N, 2)\n",
        "    loss = crit2(logp[t_m], y_dev[t_m])\n",
        "    loss.backward()\n",
        "    opt2.step()\n",
        "\n",
        "    dndf.eval()\n",
        "    with torch.no_grad():\n",
        "        val_pred = logp[v_m].argmax(dim=1).cpu()\n",
        "        val_true = y_dev[v_m].cpu()\n",
        "        val_acc  = (val_pred == val_true).float().mean().item()\n",
        "    print(f\"DNDF Epoch {epoch:02d}  Loss: {loss:.4f}  Val Acc: {val_acc:.4f}\")"
      ],
      "metadata": {
        "colab": {
          "base_uri": "https://localhost:8080/"
        },
        "id": "Z0ALbJloBR9v",
        "outputId": "71fd3c5a-ab83-46a6-b543-f83348dc968c"
      },
      "execution_count": 52,
      "outputs": [
        {
          "output_type": "stream",
          "name": "stdout",
          "text": [
            "DNDF Epoch 01  Loss: 9.8920  Val Acc: 0.7523\n",
            "DNDF Epoch 02  Loss: 9.8370  Val Acc: 0.7523\n",
            "DNDF Epoch 03  Loss: 9.7813  Val Acc: 0.7570\n",
            "DNDF Epoch 04  Loss: 9.7249  Val Acc: 0.7570\n",
            "DNDF Epoch 05  Loss: 9.6677  Val Acc: 0.7617\n",
            "DNDF Epoch 06  Loss: 9.6097  Val Acc: 0.7523\n",
            "DNDF Epoch 07  Loss: 9.5510  Val Acc: 0.7617\n",
            "DNDF Epoch 08  Loss: 9.4918  Val Acc: 0.7710\n",
            "DNDF Epoch 09  Loss: 9.4320  Val Acc: 0.7664\n",
            "DNDF Epoch 10  Loss: 9.3716  Val Acc: 0.7710\n",
            "DNDF Epoch 11  Loss: 9.3110  Val Acc: 0.7710\n",
            "DNDF Epoch 12  Loss: 9.2500  Val Acc: 0.7757\n",
            "DNDF Epoch 13  Loss: 9.1888  Val Acc: 0.7710\n",
            "DNDF Epoch 14  Loss: 9.1273  Val Acc: 0.7757\n",
            "DNDF Epoch 15  Loss: 9.0657  Val Acc: 0.7804\n",
            "DNDF Epoch 16  Loss: 9.0039  Val Acc: 0.7804\n",
            "DNDF Epoch 17  Loss: 8.9418  Val Acc: 0.7664\n",
            "DNDF Epoch 18  Loss: 8.8796  Val Acc: 0.7664\n",
            "DNDF Epoch 19  Loss: 8.8169  Val Acc: 0.7664\n",
            "DNDF Epoch 20  Loss: 8.7539  Val Acc: 0.7617\n",
            "DNDF Epoch 21  Loss: 8.6905  Val Acc: 0.7617\n",
            "DNDF Epoch 22  Loss: 8.6264  Val Acc: 0.7570\n",
            "DNDF Epoch 23  Loss: 8.5617  Val Acc: 0.7570\n",
            "DNDF Epoch 24  Loss: 8.4965  Val Acc: 0.7570\n",
            "DNDF Epoch 25  Loss: 8.4309  Val Acc: 0.7570\n",
            "DNDF Epoch 26  Loss: 8.3652  Val Acc: 0.7570\n",
            "DNDF Epoch 27  Loss: 8.2994  Val Acc: 0.7617\n",
            "DNDF Epoch 28  Loss: 8.2338  Val Acc: 0.7664\n",
            "DNDF Epoch 29  Loss: 8.1683  Val Acc: 0.7617\n",
            "DNDF Epoch 30  Loss: 8.1029  Val Acc: 0.7523\n",
            "DNDF Epoch 31  Loss: 8.0375  Val Acc: 0.7477\n",
            "DNDF Epoch 32  Loss: 7.9723  Val Acc: 0.7430\n",
            "DNDF Epoch 33  Loss: 7.9069  Val Acc: 0.7430\n",
            "DNDF Epoch 34  Loss: 7.8414  Val Acc: 0.7477\n",
            "DNDF Epoch 35  Loss: 7.7757  Val Acc: 0.7430\n",
            "DNDF Epoch 36  Loss: 7.7096  Val Acc: 0.7383\n",
            "DNDF Epoch 37  Loss: 7.6430  Val Acc: 0.7383\n",
            "DNDF Epoch 38  Loss: 7.5758  Val Acc: 0.7383\n",
            "DNDF Epoch 39  Loss: 7.5080  Val Acc: 0.7336\n",
            "DNDF Epoch 40  Loss: 7.4397  Val Acc: 0.7290\n",
            "DNDF Epoch 41  Loss: 7.3706  Val Acc: 0.7243\n",
            "DNDF Epoch 42  Loss: 7.3011  Val Acc: 0.7243\n",
            "DNDF Epoch 43  Loss: 7.2313  Val Acc: 0.7243\n",
            "DNDF Epoch 44  Loss: 7.1611  Val Acc: 0.7243\n",
            "DNDF Epoch 45  Loss: 7.0909  Val Acc: 0.7243\n",
            "DNDF Epoch 46  Loss: 7.0207  Val Acc: 0.7243\n",
            "DNDF Epoch 47  Loss: 6.9505  Val Acc: 0.7290\n",
            "DNDF Epoch 48  Loss: 6.8803  Val Acc: 0.7290\n",
            "DNDF Epoch 49  Loss: 6.8098  Val Acc: 0.7290\n",
            "DNDF Epoch 50  Loss: 6.7390  Val Acc: 0.7290\n"
          ]
        }
      ]
    },
    {
      "cell_type": "code",
      "source": [
        "dndf.eval()\n",
        "with torch.no_grad():\n",
        "    logp = dndf(emb_dev)\n",
        "    test_pred = logp[te_m].argmax(dim=1).cpu()\n",
        "    test_true = y_dev[te_m].cpu()\n",
        "\n",
        "print(\"DNDF Test Accuracy:\", (test_pred==test_true).float().mean().item())\n",
        "print(classification_report(test_true, test_pred, target_names=['licit','illicit']))\n"
      ],
      "metadata": {
        "id": "AknMlmXQv9Oa",
        "colab": {
          "base_uri": "https://localhost:8080/"
        },
        "outputId": "c13eb867-5f06-4b15-e1b6-521750279c92"
      },
      "execution_count": 53,
      "outputs": [
        {
          "output_type": "stream",
          "name": "stdout",
          "text": [
            "DNDF Test Accuracy: 0.7731481194496155\n",
            "              precision    recall  f1-score   support\n",
            "\n",
            "       licit       1.00      0.77      0.87       215\n",
            "     illicit       0.02      1.00      0.04         1\n",
            "\n",
            "    accuracy                           0.77       216\n",
            "   macro avg       0.51      0.89      0.46       216\n",
            "weighted avg       1.00      0.77      0.87       216\n",
            "\n"
          ]
        }
      ]
    },
    {
      "cell_type": "markdown",
      "metadata": {
        "id": "_5gfWEWf7FpD"
      },
      "source": [
        "# TODO:\n",
        "- explore the 89273 node (show whether it is illicit, licit, unknown)\n",
        "- merge features with classes\n",
        "- sort tx_idx for classes and edges\n",
        "- ML classify only with the transaction features and only with the aggregated ones -> compare the results ? if enough time\n",
        "- For Node2Vec use (trans, agg and all features -> compare results)\n",
        "- Use GIN with (trans, agg and all features -> compare results)\n",
        "- Apply Deep Neural Decision Forest (suggested by prof paper) ? if enough time"
      ]
    },
    {
      "cell_type": "code",
      "source": [],
      "metadata": {
        "id": "apsuxaGh8uo2"
      },
      "execution_count": null,
      "outputs": []
    }
  ],
  "metadata": {
    "accelerator": "GPU",
    "colab": {
      "gpuType": "T4",
      "provenance": [],
      "collapsed_sections": [
        "15gw4TIUqyBc",
        "TXDM8dmasrKl",
        "f2273qCTs5hJ"
      ]
    },
    "kernelspec": {
      "display_name": "Python 3",
      "name": "python3"
    },
    "language_info": {
      "name": "python"
    }
  },
  "nbformat": 4,
  "nbformat_minor": 0
}